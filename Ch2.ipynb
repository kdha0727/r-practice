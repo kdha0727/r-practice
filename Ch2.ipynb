{
 "cells": [
  {
   "cell_type": "markdown",
   "id": "9b27626c",
   "metadata": {},
   "source": [
    "# 1. 할당 및 논리문"
   ]
  },
  {
   "cell_type": "code",
   "execution_count": 1,
   "id": "4f0efb5f",
   "metadata": {},
   "outputs": [
    {
     "name": "stdout",
     "output_type": "stream",
     "text": [
      "[1] 2\n"
     ]
    }
   ],
   "source": [
    "A = 2\n",
    "print(A)"
   ]
  },
  {
   "cell_type": "code",
   "execution_count": 2,
   "id": "4dfe99fe",
   "metadata": {},
   "outputs": [
    {
     "data": {
      "text/html": [
       "TRUE"
      ],
      "text/latex": [
       "TRUE"
      ],
      "text/markdown": [
       "TRUE"
      ],
      "text/plain": [
       "[1] TRUE"
      ]
     },
     "metadata": {},
     "output_type": "display_data"
    }
   ],
   "source": [
    "A == 2"
   ]
  },
  {
   "cell_type": "code",
   "execution_count": 3,
   "id": "6f404c12",
   "metadata": {},
   "outputs": [
    {
     "data": {
      "text/html": [
       "FALSE"
      ],
      "text/latex": [
       "FALSE"
      ],
      "text/markdown": [
       "FALSE"
      ],
      "text/plain": [
       "[1] FALSE"
      ]
     },
     "metadata": {},
     "output_type": "display_data"
    }
   ],
   "source": [
    "A != 2"
   ]
  },
  {
   "cell_type": "markdown",
   "id": "c3e1215e",
   "metadata": {},
   "source": [
    "# 2. c():Combined - Create Vector"
   ]
  },
  {
   "cell_type": "code",
   "execution_count": 4,
   "id": "1a52729e",
   "metadata": {},
   "outputs": [
    {
     "name": "stdout",
     "output_type": "stream",
     "text": [
      "[1] 2 3 4 5\n"
     ]
    }
   ],
   "source": [
    "B = c(2, 3, 4, 5)\n",
    "print(B)"
   ]
  },
  {
   "cell_type": "code",
   "execution_count": 5,
   "id": "aedd2b25",
   "metadata": {},
   "outputs": [
    {
     "name": "stdout",
     "output_type": "stream",
     "text": [
      " [1]  1  2  3  4  5  6  7  8  9 10\n"
     ]
    }
   ],
   "source": [
    "x1 = c(1:10)\n",
    "print(x1)"
   ]
  },
  {
   "cell_type": "markdown",
   "id": "ce7e8f7a",
   "metadata": {},
   "source": [
    "# 3. rep(), seq()을 통한 벡터 생성"
   ]
  },
  {
   "cell_type": "markdown",
   "id": "10099366",
   "metadata": {},
   "source": [
    "> seq() : seq(from = 시작 숫자 , to = 마지막 숫자, by = 증가범위)"
   ]
  },
  {
   "cell_type": "code",
   "execution_count": 6,
   "id": "1de2957f",
   "metadata": {},
   "outputs": [],
   "source": [
    "# 1 ~ 10 까지 1씩 증가하는 수열 생성\n",
    "x1 = c(1:10) \n",
    "x1_2 = seq(from = 1, to = 10,by = 1) \n",
    "\n",
    "# 1 ~ 10까지 2씩 증가하는 수열 생성\n",
    "x2 = seq(from = 1, to = 10,by = 2) "
   ]
  },
  {
   "cell_type": "code",
   "execution_count": 7,
   "id": "c23cb6f1",
   "metadata": {},
   "outputs": [
    {
     "name": "stdout",
     "output_type": "stream",
     "text": [
      " [1]  1  2  3  4  5  6  7  8  9 10\n",
      " [1]  1  2  3  4  5  6  7  8  9 10\n",
      "[1] 1 3 5 7 9\n"
     ]
    }
   ],
   "source": [
    "print(x1)\n",
    "print(x1_2)\n",
    "print(x2)"
   ]
  },
  {
   "cell_type": "markdown",
   "id": "72112718",
   "metadata": {},
   "source": [
    "> rep() : rep(반복할 값, 반복할 횟수)"
   ]
  },
  {
   "cell_type": "code",
   "execution_count": 8,
   "id": "7c8256e5",
   "metadata": {},
   "outputs": [
    {
     "name": "stdout",
     "output_type": "stream",
     "text": [
      " [1] 1 1 1 1 1 1 1 1 1 1\n"
     ]
    }
   ],
   "source": [
    "# 1을 10번 반복\n",
    "y = rep(1,10)\n",
    "print(y)"
   ]
  },
  {
   "cell_type": "code",
   "execution_count": 9,
   "id": "0b761bc6",
   "metadata": {},
   "outputs": [
    {
     "name": "stdout",
     "output_type": "stream",
     "text": [
      "[1]  1  1 10 10\n"
     ]
    }
   ],
   "source": [
    "y3 = rep(c(1,10), c(2,2))\n",
    "print(y3)"
   ]
  },
  {
   "cell_type": "code",
   "execution_count": null,
   "id": "8a9cb2ac",
   "metadata": {},
   "outputs": [],
   "source": []
  }
 ],
 "metadata": {
  "kernelspec": {
   "display_name": "R",
   "language": "R",
   "name": "ir"
  },
  "language_info": {
   "codemirror_mode": "r",
   "file_extension": ".r",
   "mimetype": "text/x-r-source",
   "name": "R",
   "pygments_lexer": "r",
   "version": "3.6.3"
  }
 },
 "nbformat": 4,
 "nbformat_minor": 5
}
