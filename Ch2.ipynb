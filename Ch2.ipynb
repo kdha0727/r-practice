{
 "cells": [
  {
   "cell_type": "markdown",
   "id": "9b27626c",
   "metadata": {},
   "source": [
    "# 1. 할당 및 논리문"
   ]
  },
  {
   "cell_type": "code",
   "execution_count": 1,
   "id": "4f0efb5f",
   "metadata": {},
   "outputs": [
    {
     "name": "stdout",
     "output_type": "stream",
     "text": [
      "[1] 2\n"
     ]
    }
   ],
   "source": [
    "A = 2\n",
    "print(A)"
   ]
  },
  {
   "cell_type": "code",
   "execution_count": 2,
   "id": "4dfe99fe",
   "metadata": {},
   "outputs": [
    {
     "data": {
      "text/html": [
       "TRUE"
      ],
      "text/latex": [
       "TRUE"
      ],
      "text/markdown": [
       "TRUE"
      ],
      "text/plain": [
       "[1] TRUE"
      ]
     },
     "metadata": {},
     "output_type": "display_data"
    }
   ],
   "source": [
    "A == 2"
   ]
  },
  {
   "cell_type": "code",
   "execution_count": 3,
   "id": "6f404c12",
   "metadata": {},
   "outputs": [
    {
     "data": {
      "text/html": [
       "FALSE"
      ],
      "text/latex": [
       "FALSE"
      ],
      "text/markdown": [
       "FALSE"
      ],
      "text/plain": [
       "[1] FALSE"
      ]
     },
     "metadata": {},
     "output_type": "display_data"
    }
   ],
   "source": [
    "A != 2"
   ]
  },
  {
   "cell_type": "markdown",
   "id": "c3e1215e",
   "metadata": {},
   "source": [
    "# 2. c():Combined - Create Vector"
   ]
  },
  {
   "cell_type": "code",
   "execution_count": 4,
   "id": "1a52729e",
   "metadata": {},
   "outputs": [
    {
     "name": "stdout",
     "output_type": "stream",
     "text": [
      "[1] 2 3 4 5\n"
     ]
    }
   ],
   "source": [
    "B = c(2, 3, 4, 5)\n",
    "print(B)"
   ]
  },
  {
   "cell_type": "code",
   "execution_count": 5,
   "id": "aedd2b25",
   "metadata": {},
   "outputs": [
    {
     "name": "stdout",
     "output_type": "stream",
     "text": [
      " [1]  1  2  3  4  5  6  7  8  9 10\n"
     ]
    }
   ],
   "source": [
    "x1 = c(1:10)\n",
    "print(x1)"
   ]
  },
  {
   "cell_type": "markdown",
   "id": "ce7e8f7a",
   "metadata": {},
   "source": [
    "# 3. rep(), seq()을 통한 벡터 생성"
   ]
  },
  {
   "cell_type": "markdown",
   "id": "10099366",
   "metadata": {},
   "source": [
    "> seq() : seq(from = 시작 숫자 , to = 마지막 숫자, by = 증가범위)"
   ]
  },
  {
   "cell_type": "code",
   "execution_count": 6,
   "id": "1de2957f",
   "metadata": {},
   "outputs": [],
   "source": [
    "# 1 ~ 10 까지 1씩 증가하는 수열 생성\n",
    "x1 = c(1:10) \n",
    "x1_2 = seq(from = 1, to = 10,by = 1) \n",
    "\n",
    "# 1 ~ 10까지 2씩 증가하는 수열 생성\n",
    "x2 = seq(from = 1, to = 10,by = 2) "
   ]
  },
  {
   "cell_type": "code",
   "execution_count": 7,
   "id": "c23cb6f1",
   "metadata": {},
   "outputs": [
    {
     "name": "stdout",
     "output_type": "stream",
     "text": [
      " [1]  1  2  3  4  5  6  7  8  9 10\n",
      " [1]  1  2  3  4  5  6  7  8  9 10\n",
      "[1] 1 3 5 7 9\n"
     ]
    }
   ],
   "source": [
    "print(x1)\n",
    "print(x1_2)\n",
    "print(x2)"
   ]
  },
  {
   "cell_type": "markdown",
   "id": "72112718",
   "metadata": {},
   "source": [
    "> rep() : rep(반복할 값, 반복할 횟수)"
   ]
  },
  {
   "cell_type": "code",
   "execution_count": 8,
   "id": "7c8256e5",
   "metadata": {},
   "outputs": [
    {
     "name": "stdout",
     "output_type": "stream",
     "text": [
      " [1] 1 1 1 1 1 1 1 1 1 1\n"
     ]
    }
   ],
   "source": [
    "# 1을 10번 반복\n",
    "y = rep(1,10)\n",
    "print(y)"
   ]
  },
  {
   "cell_type": "code",
   "execution_count": 9,
   "id": "0b761bc6",
   "metadata": {},
   "outputs": [
    {
     "name": "stdout",
     "output_type": "stream",
     "text": [
      "[1]  1  1 10 10\n"
     ]
    }
   ],
   "source": [
    "y3 = rep(c(1,10), c(2,2))\n",
    "print(y3)"
   ]
  },
  {
   "cell_type": "markdown",
   "id": "0143a9f4",
   "metadata": {},
   "source": [
    "# 4. matrix(), data.frame()을 통해 데이터 셋 만들기"
   ]
  },
  {
   "cell_type": "markdown",
   "id": "d3b2c84d",
   "metadata": {},
   "source": [
    "> matrix(data = 데이터 , nrow = 행의 수, ncol = 열의 수, byrow = 행/열 기준)"
   ]
  },
  {
   "cell_type": "code",
   "execution_count": 10,
   "id": "84e4fbdf",
   "metadata": {},
   "outputs": [
    {
     "data": {
      "text/html": [
       "<style>\n",
       ".list-inline {list-style: none; margin:0; padding: 0}\n",
       ".list-inline>li {display: inline-block}\n",
       ".list-inline>li:not(:last-child)::after {content: \"\\00b7\"; padding: 0 .5ex}\n",
       "</style>\n",
       "<ol class=list-inline><li>1</li><li>2</li><li>3</li><li>4</li><li>5</li><li>6</li><li>7</li><li>8</li><li>9</li><li>10</li></ol>\n"
      ],
      "text/latex": [
       "\\begin{enumerate*}\n",
       "\\item 1\n",
       "\\item 2\n",
       "\\item 3\n",
       "\\item 4\n",
       "\\item 5\n",
       "\\item 6\n",
       "\\item 7\n",
       "\\item 8\n",
       "\\item 9\n",
       "\\item 10\n",
       "\\end{enumerate*}\n"
      ],
      "text/markdown": [
       "1. 1\n",
       "2. 2\n",
       "3. 3\n",
       "4. 4\n",
       "5. 5\n",
       "6. 6\n",
       "7. 7\n",
       "8. 8\n",
       "9. 9\n",
       "10. 10\n",
       "\n",
       "\n"
      ],
      "text/plain": [
       " [1]  1  2  3  4  5  6  7  8  9 10"
      ]
     },
     "metadata": {},
     "output_type": "display_data"
    }
   ],
   "source": [
    "x1"
   ]
  },
  {
   "cell_type": "code",
   "execution_count": 11,
   "id": "8a9cb2ac",
   "metadata": {},
   "outputs": [
    {
     "name": "stdout",
     "output_type": "stream",
     "text": [
      "     [,1] [,2]\n",
      "[1,]    1    6\n",
      "[2,]    2    7\n",
      "[3,]    3    8\n",
      "[4,]    4    9\n",
      "[5,]    5   10\n"
     ]
    }
   ],
   "source": [
    "MATRIX_R = matrix(\n",
    "data = x1, \n",
    "nrow = 5\n",
    ")\n",
    "print(MATRIX_R)"
   ]
  },
  {
   "cell_type": "code",
   "execution_count": 12,
   "id": "e782121a",
   "metadata": {},
   "outputs": [
    {
     "name": "stdout",
     "output_type": "stream",
     "text": [
      "     [,1] [,2] [,3] [,4] [,5]\n",
      "[1,]    1    3    5    7    9\n",
      "[2,]    2    4    6    8   10\n"
     ]
    }
   ],
   "source": [
    "MATRIX_C = matrix(\n",
    "data = x1, \n",
    "ncol = 5\n",
    ")\n",
    "print(MATRIX_C)"
   ]
  },
  {
   "cell_type": "markdown",
   "id": "dfbb2490",
   "metadata": {},
   "source": [
    "> data.frame()"
   ]
  },
  {
   "cell_type": "code",
   "execution_count": 13,
   "id": "62ee396f",
   "metadata": {},
   "outputs": [
    {
     "data": {
      "text/html": [
       "<table class=\"dataframe\">\n",
       "<caption>A data.frame: 10 × 4</caption>\n",
       "<thead>\n",
       "\t<tr><th scope=col>X1</th><th scope=col>X1_2</th><th scope=col>X2</th><th scope=col>y</th></tr>\n",
       "\t<tr><th scope=col>&lt;int&gt;</th><th scope=col>&lt;dbl&gt;</th><th scope=col>&lt;dbl&gt;</th><th scope=col>&lt;dbl&gt;</th></tr>\n",
       "</thead>\n",
       "<tbody>\n",
       "\t<tr><td> 1</td><td> 1</td><td>1</td><td>1</td></tr>\n",
       "\t<tr><td> 2</td><td> 2</td><td>3</td><td>1</td></tr>\n",
       "\t<tr><td> 3</td><td> 3</td><td>5</td><td>1</td></tr>\n",
       "\t<tr><td> 4</td><td> 4</td><td>7</td><td>1</td></tr>\n",
       "\t<tr><td> 5</td><td> 5</td><td>9</td><td>1</td></tr>\n",
       "\t<tr><td> 6</td><td> 6</td><td>1</td><td>1</td></tr>\n",
       "\t<tr><td> 7</td><td> 7</td><td>3</td><td>1</td></tr>\n",
       "\t<tr><td> 8</td><td> 8</td><td>5</td><td>1</td></tr>\n",
       "\t<tr><td> 9</td><td> 9</td><td>7</td><td>1</td></tr>\n",
       "\t<tr><td>10</td><td>10</td><td>9</td><td>1</td></tr>\n",
       "</tbody>\n",
       "</table>\n"
      ],
      "text/latex": [
       "A data.frame: 10 × 4\n",
       "\\begin{tabular}{llll}\n",
       " X1 & X1\\_2 & X2 & y\\\\\n",
       " <int> & <dbl> & <dbl> & <dbl>\\\\\n",
       "\\hline\n",
       "\t  1 &  1 & 1 & 1\\\\\n",
       "\t  2 &  2 & 3 & 1\\\\\n",
       "\t  3 &  3 & 5 & 1\\\\\n",
       "\t  4 &  4 & 7 & 1\\\\\n",
       "\t  5 &  5 & 9 & 1\\\\\n",
       "\t  6 &  6 & 1 & 1\\\\\n",
       "\t  7 &  7 & 3 & 1\\\\\n",
       "\t  8 &  8 & 5 & 1\\\\\n",
       "\t  9 &  9 & 7 & 1\\\\\n",
       "\t 10 & 10 & 9 & 1\\\\\n",
       "\\end{tabular}\n"
      ],
      "text/markdown": [
       "\n",
       "A data.frame: 10 × 4\n",
       "\n",
       "| X1 &lt;int&gt; | X1_2 &lt;dbl&gt; | X2 &lt;dbl&gt; | y &lt;dbl&gt; |\n",
       "|---|---|---|---|\n",
       "|  1 |  1 | 1 | 1 |\n",
       "|  2 |  2 | 3 | 1 |\n",
       "|  3 |  3 | 5 | 1 |\n",
       "|  4 |  4 | 7 | 1 |\n",
       "|  5 |  5 | 9 | 1 |\n",
       "|  6 |  6 | 1 | 1 |\n",
       "|  7 |  7 | 3 | 1 |\n",
       "|  8 |  8 | 5 | 1 |\n",
       "|  9 |  9 | 7 | 1 |\n",
       "| 10 | 10 | 9 | 1 |\n",
       "\n"
      ],
      "text/plain": [
       "   X1 X1_2 X2 y\n",
       "1   1  1   1  1\n",
       "2   2  2   3  1\n",
       "3   3  3   5  1\n",
       "4   4  4   7  1\n",
       "5   5  5   9  1\n",
       "6   6  6   1  1\n",
       "7   7  7   3  1\n",
       "8   8  8   5  1\n",
       "9   9  9   7  1\n",
       "10 10 10   9  1"
      ]
     },
     "metadata": {},
     "output_type": "display_data"
    }
   ],
   "source": [
    "DATA_SET = data.frame(\n",
    "X1 = x1,  # 변수명 = 벡터 값,\n",
    "X1_2 = x1_2,\n",
    "X2 = x2,\n",
    "y = y \n",
    ")\n",
    "DATA_SET"
   ]
  },
  {
   "cell_type": "markdown",
   "id": "4c203e34",
   "metadata": {},
   "source": [
    "> head(): 데이터의 상단 부분을 지정해주는 행만큼 출력해주는 함수"
   ]
  },
  {
   "cell_type": "code",
   "execution_count": 14,
   "id": "f8e6a8b8",
   "metadata": {},
   "outputs": [
    {
     "name": "stdout",
     "output_type": "stream",
     "text": [
      "  X1 X1_2 X2 y\n",
      "1  1    1  1 1\n",
      "2  2    2  3 1\n",
      "3  3    3  5 1\n",
      "4  4    4  7 1\n",
      "5  5    5  9 1\n"
     ]
    }
   ],
   "source": [
    "print(head(DATA_SET, 5))"
   ]
  },
  {
   "cell_type": "markdown",
   "id": "d6b41ea7",
   "metadata": {},
   "source": [
    "# 5. length(), dim()을 활용한 데이터 형태 파악하기"
   ]
  },
  {
   "cell_type": "markdown",
   "id": "66a1d321",
   "metadata": {},
   "source": [
    "> length(1차원 벡터)"
   ]
  },
  {
   "cell_type": "code",
   "execution_count": 15,
   "id": "d4eaab2d",
   "metadata": {},
   "outputs": [
    {
     "name": "stdout",
     "output_type": "stream",
     "text": [
      "[1] 10\n"
     ]
    }
   ],
   "source": [
    "# 벡터에 속한 원소의 갯수\n",
    "print(length(x1))"
   ]
  },
  {
   "cell_type": "markdown",
   "id": "f96eadd7",
   "metadata": {},
   "source": [
    "> dim(2차원 행렬 혹은 데이터프레임)"
   ]
  },
  {
   "cell_type": "code",
   "execution_count": 16,
   "id": "d5c03332",
   "metadata": {},
   "outputs": [
    {
     "name": "stdout",
     "output_type": "stream",
     "text": [
      "[1] 5 2\n"
     ]
    }
   ],
   "source": [
    "# 행, 열\n",
    "print(dim(MATRIX_R))"
   ]
  },
  {
   "cell_type": "code",
   "execution_count": 17,
   "id": "56485b07",
   "metadata": {},
   "outputs": [
    {
     "name": "stdout",
     "output_type": "stream",
     "text": [
      "[1] 10  4\n"
     ]
    }
   ],
   "source": [
    "print(dim(DATA_SET))"
   ]
  },
  {
   "cell_type": "markdown",
   "id": "130ac695",
   "metadata": {},
   "source": [
    "# 6. 괄호의 활용"
   ]
  },
  {
   "cell_type": "markdown",
   "id": "2fbfcc7c",
   "metadata": {},
   "source": [
    "> Parenthesis \"()\": Use with executable function"
   ]
  },
  {
   "cell_type": "code",
   "execution_count": 18,
   "id": "dee161a9",
   "metadata": {},
   "outputs": [
    {
     "name": "stdout",
     "output_type": "stream",
     "text": [
      "[1] 1 2 3 4 5\n"
     ]
    }
   ],
   "source": [
    "A=c(1,2,3,4,5); print(A)"
   ]
  },
  {
   "cell_type": "markdown",
   "id": "99d3086a",
   "metadata": {},
   "source": [
    "> Curly Bracket \"{}\": Use in Conditional"
   ]
  },
  {
   "cell_type": "code",
   "execution_count": 19,
   "id": "5b60c114",
   "metadata": {},
   "outputs": [
    {
     "name": "stdout",
     "output_type": "stream",
     "text": [
      "[1] 1\n",
      "[1] 2\n",
      "[1] 3\n",
      "[1] 4\n",
      "[1] 5\n"
     ]
    }
   ],
   "source": [
    "for (i in A) {print(i)}"
   ]
  },
  {
   "cell_type": "code",
   "execution_count": 20,
   "id": "36bb4f9c",
   "metadata": {},
   "outputs": [
    {
     "name": "stdout",
     "output_type": "stream",
     "text": [
      " [1]  1  2  3  4  5  6  7  8  9 10\n"
     ]
    }
   ],
   "source": [
    "B = c() # 빈 공간의 벡터 생성\n",
    "\n",
    "for(k in seq(from = 1, to = 10, by = 1)){\n",
    "B = c(B,k)\n",
    "}\n",
    "\n",
    "print(B)"
   ]
  },
  {
   "cell_type": "markdown",
   "id": "b5aba661",
   "metadata": {},
   "source": [
    "> Square Bracket \"[]\": Indexing"
   ]
  },
  {
   "cell_type": "markdown",
   "id": "78d64293",
   "metadata": {},
   "source": [
    "* 1-dim data"
   ]
  },
  {
   "cell_type": "code",
   "execution_count": 21,
   "id": "901cf953",
   "metadata": {},
   "outputs": [
    {
     "data": {
      "text/html": [
       "2"
      ],
      "text/latex": [
       "2"
      ],
      "text/markdown": [
       "2"
      ],
      "text/plain": [
       "[1] 2"
      ]
     },
     "metadata": {},
     "output_type": "display_data"
    }
   ],
   "source": [
    "# 2번째 값\n",
    "A[2]"
   ]
  },
  {
   "cell_type": "code",
   "execution_count": 22,
   "id": "7dea9d23",
   "metadata": {},
   "outputs": [
    {
     "data": {
      "text/html": [
       "<style>\n",
       ".list-inline {list-style: none; margin:0; padding: 0}\n",
       ".list-inline>li {display: inline-block}\n",
       ".list-inline>li:not(:last-child)::after {content: \"\\00b7\"; padding: 0 .5ex}\n",
       "</style>\n",
       "<ol class=list-inline><li>1</li><li>2</li></ol>\n"
      ],
      "text/latex": [
       "\\begin{enumerate*}\n",
       "\\item 1\n",
       "\\item 2\n",
       "\\end{enumerate*}\n"
      ],
      "text/markdown": [
       "1. 1\n",
       "2. 2\n",
       "\n",
       "\n"
      ],
      "text/plain": [
       "[1] 1 2"
      ]
     },
     "metadata": {},
     "output_type": "display_data"
    }
   ],
   "source": [
    "# 1,2번째 값\n",
    "A[1:2]"
   ]
  },
  {
   "cell_type": "code",
   "execution_count": 23,
   "id": "de174217",
   "metadata": {},
   "outputs": [
    {
     "data": {
      "text/html": [
       "<style>\n",
       ".list-inline {list-style: none; margin:0; padding: 0}\n",
       ".list-inline>li {display: inline-block}\n",
       ".list-inline>li:not(:last-child)::after {content: \"\\00b7\"; padding: 0 .5ex}\n",
       "</style>\n",
       "<ol class=list-inline><li>1</li><li>2</li><li>4</li><li>5</li></ol>\n"
      ],
      "text/latex": [
       "\\begin{enumerate*}\n",
       "\\item 1\n",
       "\\item 2\n",
       "\\item 4\n",
       "\\item 5\n",
       "\\end{enumerate*}\n"
      ],
      "text/markdown": [
       "1. 1\n",
       "2. 2\n",
       "3. 4\n",
       "4. 5\n",
       "\n",
       "\n"
      ],
      "text/plain": [
       "[1] 1 2 4 5"
      ]
     },
     "metadata": {},
     "output_type": "display_data"
    }
   ],
   "source": [
    "# 3번째 값 빼고\n",
    "A[-3]"
   ]
  },
  {
   "cell_type": "code",
   "execution_count": 24,
   "id": "d76ce835",
   "metadata": {},
   "outputs": [
    {
     "data": {
      "text/html": [
       "<style>\n",
       ".list-inline {list-style: none; margin:0; padding: 0}\n",
       ".list-inline>li {display: inline-block}\n",
       ".list-inline>li:not(:last-child)::after {content: \"\\00b7\"; padding: 0 .5ex}\n",
       "</style>\n",
       "<ol class=list-inline><li>1</li><li>2</li><li>4</li><li>5</li></ol>\n"
      ],
      "text/latex": [
       "\\begin{enumerate*}\n",
       "\\item 1\n",
       "\\item 2\n",
       "\\item 4\n",
       "\\item 5\n",
       "\\end{enumerate*}\n"
      ],
      "text/markdown": [
       "1. 1\n",
       "2. 2\n",
       "3. 4\n",
       "4. 5\n",
       "\n",
       "\n"
      ],
      "text/plain": [
       "[1] 1 2 4 5"
      ]
     },
     "metadata": {},
     "output_type": "display_data"
    }
   ],
   "source": [
    "# 1,2,4,5번째 값\n",
    "A[c(1,2,4,5)]"
   ]
  },
  {
   "cell_type": "markdown",
   "id": "1d2e1548",
   "metadata": {},
   "source": [
    "* 2-dim data"
   ]
  },
  {
   "cell_type": "code",
   "execution_count": 25,
   "id": "7d9571bb",
   "metadata": {},
   "outputs": [
    {
     "data": {
      "text/html": [
       "<table class=\"dataframe\">\n",
       "<caption>A data.frame: 1 × 4</caption>\n",
       "<thead>\n",
       "\t<tr><th></th><th scope=col>X1</th><th scope=col>X1_2</th><th scope=col>X2</th><th scope=col>y</th></tr>\n",
       "\t<tr><th></th><th scope=col>&lt;int&gt;</th><th scope=col>&lt;dbl&gt;</th><th scope=col>&lt;dbl&gt;</th><th scope=col>&lt;dbl&gt;</th></tr>\n",
       "</thead>\n",
       "<tbody>\n",
       "\t<tr><th scope=row>1</th><td>1</td><td>1</td><td>1</td><td>1</td></tr>\n",
       "</tbody>\n",
       "</table>\n"
      ],
      "text/latex": [
       "A data.frame: 1 × 4\n",
       "\\begin{tabular}{r|llll}\n",
       "  & X1 & X1\\_2 & X2 & y\\\\\n",
       "  & <int> & <dbl> & <dbl> & <dbl>\\\\\n",
       "\\hline\n",
       "\t1 & 1 & 1 & 1 & 1\\\\\n",
       "\\end{tabular}\n"
      ],
      "text/markdown": [
       "\n",
       "A data.frame: 1 × 4\n",
       "\n",
       "| <!--/--> | X1 &lt;int&gt; | X1_2 &lt;dbl&gt; | X2 &lt;dbl&gt; | y &lt;dbl&gt; |\n",
       "|---|---|---|---|---|\n",
       "| 1 | 1 | 1 | 1 | 1 |\n",
       "\n"
      ],
      "text/plain": [
       "  X1 X1_2 X2 y\n",
       "1 1  1    1  1"
      ]
     },
     "metadata": {},
     "output_type": "display_data"
    }
   ],
   "source": [
    "# 1행 전부\n",
    "DATA_SET[1,] # 1행 전부"
   ]
  },
  {
   "cell_type": "code",
   "execution_count": 26,
   "id": "50013e2d",
   "metadata": {},
   "outputs": [
    {
     "data": {
      "text/html": [
       "<style>\n",
       ".list-inline {list-style: none; margin:0; padding: 0}\n",
       ".list-inline>li {display: inline-block}\n",
       ".list-inline>li:not(:last-child)::after {content: \"\\00b7\"; padding: 0 .5ex}\n",
       "</style>\n",
       "<ol class=list-inline><li>1</li><li>2</li><li>3</li><li>4</li><li>5</li><li>6</li><li>7</li><li>8</li><li>9</li><li>10</li></ol>\n"
      ],
      "text/latex": [
       "\\begin{enumerate*}\n",
       "\\item 1\n",
       "\\item 2\n",
       "\\item 3\n",
       "\\item 4\n",
       "\\item 5\n",
       "\\item 6\n",
       "\\item 7\n",
       "\\item 8\n",
       "\\item 9\n",
       "\\item 10\n",
       "\\end{enumerate*}\n"
      ],
      "text/markdown": [
       "1. 1\n",
       "2. 2\n",
       "3. 3\n",
       "4. 4\n",
       "5. 5\n",
       "6. 6\n",
       "7. 7\n",
       "8. 8\n",
       "9. 9\n",
       "10. 10\n",
       "\n",
       "\n"
      ],
      "text/plain": [
       " [1]  1  2  3  4  5  6  7  8  9 10"
      ]
     },
     "metadata": {},
     "output_type": "display_data"
    }
   ],
   "source": [
    "# 1열 전부\n",
    "DATA_SET[,1]"
   ]
  },
  {
   "cell_type": "code",
   "execution_count": 27,
   "id": "91262efc",
   "metadata": {},
   "outputs": [
    {
     "name": "stdout",
     "output_type": "stream",
     "text": [
      "  X1 X2 y\n",
      "1  1  1 1\n",
      "2  2  3 1\n",
      "3  3  5 1\n"
     ]
    }
   ],
   "source": [
    "# 1,2,3 행 & 2열 빼고 나머지\n",
    "print(DATA_SET[c(1,2,3),-2]) "
   ]
  },
  {
   "cell_type": "markdown",
   "id": "ed236b66",
   "metadata": {},
   "source": [
    "# 7. 변수 형태 이해하기"
   ]
  },
  {
   "cell_type": "markdown",
   "id": "c8cc1497",
   "metadata": {},
   "source": [
    "> \"Strings\": Data Type \\\n",
    "> Check type with `str()` function\n",
    "\n",
    "|Strings Type  |Description          |\n",
    "|--------------|---------------------|\n",
    "|chr(Character)|Sequence of Character|\n",
    "|int(Integer)  |Number               |\n",
    "|num(Numeric)  |Number               |\n",
    "|Factor        |Nominal(Categorial)  |\n",
    "|Posixct       |Datetime             |\n",
    "|Tseries       |Time Series          |\n"
   ]
  },
  {
   "cell_type": "markdown",
   "id": "e376fb28",
   "metadata": {},
   "source": [
    "* Discrete (Nominal, Ordial)\n",
    "* Continuous"
   ]
  },
  {
   "cell_type": "code",
   "execution_count": 28,
   "id": "ca67a42c",
   "metadata": {},
   "outputs": [],
   "source": [
    "Numeric_Vector = c(1:20)\n",
    "Chr_Vector = c(\"A\",\"B\",\"C\")"
   ]
  },
  {
   "cell_type": "code",
   "execution_count": 29,
   "id": "e1f1be35",
   "metadata": {},
   "outputs": [
    {
     "name": "stdout",
     "output_type": "stream",
     "text": [
      " int [1:20] 1 2 3 4 5 6 7 8 9 10 ...\n"
     ]
    }
   ],
   "source": [
    "str(Numeric_Vector)"
   ]
  },
  {
   "cell_type": "code",
   "execution_count": 30,
   "id": "126c641f",
   "metadata": {},
   "outputs": [
    {
     "name": "stdout",
     "output_type": "stream",
     "text": [
      " chr [1:3] \"A\" \"B\" \"C\"\n"
     ]
    }
   ],
   "source": [
    "str(Chr_Vector)"
   ]
  },
  {
   "cell_type": "markdown",
   "id": "245b14a9",
   "metadata": {},
   "source": [
    "# 8. 시간(날짜)형태의 변수 다루기"
   ]
  },
  {
   "cell_type": "markdown",
   "id": "0a64a677",
   "metadata": {},
   "source": [
    "1. as.Date()를 활용하여 ‘년-월-일’ 형태로 다루기\n",
    "2. as.POSIXct()를 활용하여 ‘년-월-일 시:분:초’ 형태로 다루기\n",
    "3. lubridate패키지를 활용하여 날짜 데이터 다루기"
   ]
  },
  {
   "cell_type": "markdown",
   "id": "b5c1c744",
   "metadata": {},
   "source": [
    "|Format|Example|Format|Example|\n",
    "|------|-------|------|-------|\n",
    "|%a|화|%M|23(분)|\n",
    "|%A|화요일|%p|AM/PM|\n",
    "|%b|1|%S|23(초)|\n",
    "|%B|1월|%u|1-7 (1:월요일)|\n",
    "|%C|20세기|%w|0-6 (0:일요일)|\n",
    "|%d|09(날짜)|%y|12(년)|\n",
    "|%H|23(시간)|%Y|2012(년)|\n",
    "|%I|11(시간)|%m|01(월)|"
   ]
  },
  {
   "cell_type": "markdown",
   "id": "cd5d72e3",
   "metadata": {},
   "source": [
    "> as.Date(변수, format = “날짜 형식”)"
   ]
  },
  {
   "cell_type": "code",
   "execution_count": 31,
   "id": "f9a9a5be",
   "metadata": {},
   "outputs": [
    {
     "name": "stdout",
     "output_type": "stream",
     "text": [
      " chr \"2018-01-02\"\n"
     ]
    }
   ],
   "source": [
    "DATE_O = \"2018-01-02\"\n",
    "str(DATE_O)"
   ]
  },
  {
   "cell_type": "code",
   "execution_count": 32,
   "id": "2ffef870",
   "metadata": {},
   "outputs": [
    {
     "name": "stdout",
     "output_type": "stream",
     "text": [
      " Date[1:1], format: \"2018-01-02\"\n"
     ]
    }
   ],
   "source": [
    "# Type Conversion\n",
    "DATE_C = as.Date(DATE_O, format = \"%Y-%m-%d\")\n",
    "str(DATE_C)"
   ]
  },
  {
   "cell_type": "markdown",
   "id": "88e2c304",
   "metadata": {},
   "source": [
    "> as.POSIXct(날짜 및 시간, format = “날짜 및 시간 형식”)"
   ]
  },
  {
   "cell_type": "code",
   "execution_count": 33,
   "id": "c378db88",
   "metadata": {},
   "outputs": [
    {
     "name": "stdout",
     "output_type": "stream",
     "text": [
      " POSIXct[1:1], format: \"2015-02-04 23:13:23\"\n"
     ]
    }
   ],
   "source": [
    "DATE_O2 = \"2015-02-04 23:13:23\"\n",
    "DATE_P = as.POSIXct(DATE_O2, format = \"%Y-%m-%d %H:%M:%S\")\n",
    "str(DATE_P)"
   ]
  },
  {
   "cell_type": "markdown",
   "id": "d0db6685",
   "metadata": {},
   "source": [
    "> format(날짜변수, “형식”)"
   ]
  },
  {
   "cell_type": "code",
   "execution_count": 34,
   "id": "3f01b082",
   "metadata": {},
   "outputs": [
    {
     "data": {
      "text/html": [
       "'수요일'"
      ],
      "text/latex": [
       "'수요일'"
      ],
      "text/markdown": [
       "'수요일'"
      ],
      "text/plain": [
       "[1] \"수요일\""
      ]
     },
     "metadata": {},
     "output_type": "display_data"
    }
   ],
   "source": [
    "format(DATE_P,\"%A\")"
   ]
  },
  {
   "cell_type": "code",
   "execution_count": 35,
   "id": "ed153dd6",
   "metadata": {},
   "outputs": [
    {
     "data": {
      "text/html": [
       "'23'"
      ],
      "text/latex": [
       "'23'"
      ],
      "text/markdown": [
       "'23'"
      ],
      "text/plain": [
       "[1] \"23\""
      ]
     },
     "metadata": {},
     "output_type": "display_data"
    }
   ],
   "source": [
    "format(DATE_P,\"%S\")"
   ]
  },
  {
   "cell_type": "code",
   "execution_count": 36,
   "id": "d14a1a16",
   "metadata": {},
   "outputs": [
    {
     "data": {
      "text/html": [
       "'13'"
      ],
      "text/latex": [
       "'13'"
      ],
      "text/markdown": [
       "'13'"
      ],
      "text/plain": [
       "[1] \"13\""
      ]
     },
     "metadata": {},
     "output_type": "display_data"
    }
   ],
   "source": [
    "format(DATE_P,\"%M\")"
   ]
  },
  {
   "cell_type": "code",
   "execution_count": 37,
   "id": "70a80dde",
   "metadata": {},
   "outputs": [
    {
     "data": {
      "text/html": [
       "'2015'"
      ],
      "text/latex": [
       "'2015'"
      ],
      "text/markdown": [
       "'2015'"
      ],
      "text/plain": [
       "[1] \"2015\""
      ]
     },
     "metadata": {},
     "output_type": "display_data"
    }
   ],
   "source": [
    "format(DATE_P,\"%Y\")"
   ]
  },
  {
   "cell_type": "markdown",
   "id": "fb10d8c4",
   "metadata": {},
   "source": [
    "# 9. as & is를 통해 strings 확인 및 변경하기"
   ]
  },
  {
   "cell_type": "markdown",
   "id": "2436eac2",
   "metadata": {},
   "source": [
    "> as(): “변수 x를 ~로 취급하겠다.” "
   ]
  },
  {
   "cell_type": "code",
   "execution_count": 38,
   "id": "02eed19f",
   "metadata": {},
   "outputs": [],
   "source": [
    "x=c(1,2,3,4,5,6,7,8,9,10) \n",
    "\n",
    "x1 = as.integer(x)\n",
    "x2 = as.numeric(x)\n",
    "x3 = as.factor(x)\n",
    "x4 = as.character(x)"
   ]
  },
  {
   "cell_type": "code",
   "execution_count": 39,
   "id": "82bde840",
   "metadata": {},
   "outputs": [
    {
     "name": "stdout",
     "output_type": "stream",
     "text": [
      " int [1:10] 1 2 3 4 5 6 7 8 9 10\n"
     ]
    }
   ],
   "source": [
    "str(x1)"
   ]
  },
  {
   "cell_type": "code",
   "execution_count": 40,
   "id": "0bb39e82",
   "metadata": {},
   "outputs": [
    {
     "name": "stdout",
     "output_type": "stream",
     "text": [
      " num [1:10] 1 2 3 4 5 6 7 8 9 10\n"
     ]
    }
   ],
   "source": [
    "str(x2)"
   ]
  },
  {
   "cell_type": "code",
   "execution_count": 41,
   "id": "6fa81eea",
   "metadata": {},
   "outputs": [
    {
     "name": "stdout",
     "output_type": "stream",
     "text": [
      " Factor w/ 10 levels \"1\",\"2\",\"3\",\"4\",..: 1 2 3 4 5 6 7 8 9 10\n"
     ]
    }
   ],
   "source": [
    "str(x3)"
   ]
  },
  {
   "cell_type": "code",
   "execution_count": 42,
   "id": "dba473b8",
   "metadata": {},
   "outputs": [
    {
     "name": "stdout",
     "output_type": "stream",
     "text": [
      " chr [1:10] \"1\" \"2\" \"3\" \"4\" \"5\" \"6\" \"7\" \"8\" \"9\" \"10\"\n"
     ]
    }
   ],
   "source": [
    "str(x4)"
   ]
  },
  {
   "cell_type": "markdown",
   "id": "73dcfff5",
   "metadata": {},
   "source": [
    "> summary()"
   ]
  },
  {
   "cell_type": "code",
   "execution_count": 43,
   "id": "e0c01c8b",
   "metadata": {},
   "outputs": [
    {
     "data": {
      "text/plain": [
       "   Min. 1st Qu.  Median    Mean 3rd Qu.    Max. \n",
       "   1.00    3.25    5.50    5.50    7.75   10.00 "
      ]
     },
     "metadata": {},
     "output_type": "display_data"
    }
   ],
   "source": [
    "summary(x1)"
   ]
  },
  {
   "cell_type": "code",
   "execution_count": 44,
   "id": "3abffd25",
   "metadata": {},
   "outputs": [
    {
     "data": {
      "text/plain": [
       "   Min. 1st Qu.  Median    Mean 3rd Qu.    Max. \n",
       "   1.00    3.25    5.50    5.50    7.75   10.00 "
      ]
     },
     "metadata": {},
     "output_type": "display_data"
    }
   ],
   "source": [
    "summary(x2)"
   ]
  },
  {
   "cell_type": "code",
   "execution_count": 45,
   "id": "ff242b50",
   "metadata": {},
   "outputs": [
    {
     "data": {
      "text/html": [
       "<style>\n",
       ".dl-inline {width: auto; margin:0; padding: 0}\n",
       ".dl-inline>dt, .dl-inline>dd {float: none; width: auto; display: inline-block}\n",
       ".dl-inline>dt::after {content: \":\\0020\"; padding-right: .5ex}\n",
       ".dl-inline>dt:not(:first-of-type) {padding-left: .5ex}\n",
       "</style><dl class=dl-inline><dt>1</dt><dd>1</dd><dt>2</dt><dd>1</dd><dt>3</dt><dd>1</dd><dt>4</dt><dd>1</dd><dt>5</dt><dd>1</dd><dt>6</dt><dd>1</dd><dt>7</dt><dd>1</dd><dt>8</dt><dd>1</dd><dt>9</dt><dd>1</dd><dt>10</dt><dd>1</dd></dl>\n"
      ],
      "text/latex": [
       "\\begin{description*}\n",
       "\\item[1] 1\n",
       "\\item[2] 1\n",
       "\\item[3] 1\n",
       "\\item[4] 1\n",
       "\\item[5] 1\n",
       "\\item[6] 1\n",
       "\\item[7] 1\n",
       "\\item[8] 1\n",
       "\\item[9] 1\n",
       "\\item[10] 1\n",
       "\\end{description*}\n"
      ],
      "text/markdown": [
       "1\n",
       ":   12\n",
       ":   13\n",
       ":   14\n",
       ":   15\n",
       ":   16\n",
       ":   17\n",
       ":   18\n",
       ":   19\n",
       ":   110\n",
       ":   1\n",
       "\n"
      ],
      "text/plain": [
       " 1  2  3  4  5  6  7  8  9 10 \n",
       " 1  1  1  1  1  1  1  1  1  1 "
      ]
     },
     "metadata": {},
     "output_type": "display_data"
    }
   ],
   "source": [
    "summary(x3)"
   ]
  },
  {
   "cell_type": "code",
   "execution_count": 46,
   "id": "dc5e9015",
   "metadata": {},
   "outputs": [
    {
     "data": {
      "text/plain": [
       "   Length     Class      Mode \n",
       "       10 character character "
      ]
     },
     "metadata": {},
     "output_type": "display_data"
    }
   ],
   "source": [
    "summary(x4)"
   ]
  },
  {
   "cell_type": "markdown",
   "id": "308088c2",
   "metadata": {},
   "source": [
    "> is.`dtype`(x): return whether x is `dtype`"
   ]
  },
  {
   "cell_type": "code",
   "execution_count": 47,
   "id": "3b84bd0b",
   "metadata": {},
   "outputs": [
    {
     "data": {
      "text/html": [
       "FALSE"
      ],
      "text/latex": [
       "FALSE"
      ],
      "text/markdown": [
       "FALSE"
      ],
      "text/plain": [
       "[1] FALSE"
      ]
     },
     "metadata": {},
     "output_type": "display_data"
    }
   ],
   "source": [
    "is.integer(x)"
   ]
  },
  {
   "cell_type": "code",
   "execution_count": 48,
   "id": "20f40b05",
   "metadata": {},
   "outputs": [
    {
     "data": {
      "text/html": [
       "TRUE"
      ],
      "text/latex": [
       "TRUE"
      ],
      "text/markdown": [
       "TRUE"
      ],
      "text/plain": [
       "[1] TRUE"
      ]
     },
     "metadata": {},
     "output_type": "display_data"
    }
   ],
   "source": [
    "is.numeric(x)"
   ]
  },
  {
   "cell_type": "code",
   "execution_count": 49,
   "id": "5aeec47b",
   "metadata": {},
   "outputs": [
    {
     "data": {
      "text/html": [
       "FALSE"
      ],
      "text/latex": [
       "FALSE"
      ],
      "text/markdown": [
       "FALSE"
      ],
      "text/plain": [
       "[1] FALSE"
      ]
     },
     "metadata": {},
     "output_type": "display_data"
    }
   ],
   "source": [
    "is.factor(y)"
   ]
  },
  {
   "cell_type": "code",
   "execution_count": 50,
   "id": "bbfb8533",
   "metadata": {},
   "outputs": [
    {
     "data": {
      "text/html": [
       "FALSE"
      ],
      "text/latex": [
       "FALSE"
      ],
      "text/markdown": [
       "FALSE"
      ],
      "text/plain": [
       "[1] FALSE"
      ]
     },
     "metadata": {},
     "output_type": "display_data"
    }
   ],
   "source": [
    "is.character(y)"
   ]
  },
  {
   "cell_type": "markdown",
   "id": "295ad5a6",
   "metadata": {},
   "source": [
    "# 10. sample()을 통한 데이터 무작위 추출하기"
   ]
  },
  {
   "cell_type": "markdown",
   "id": "a8912486",
   "metadata": {},
   "source": [
    "> sample(데이터 추출 범위, 데이터 추출 갯수 , replace = “FALSE OR”TRUE\")\n",
    "* replace = FALSE: 비복원 추출"
   ]
  },
  {
   "cell_type": "code",
   "execution_count": 51,
   "id": "576da5e0",
   "metadata": {},
   "outputs": [
    {
     "name": "stdout",
     "output_type": "stream",
     "text": [
      "[1] 11 39 40  8 16 28\n"
     ]
    }
   ],
   "source": [
    "# 로또 번호 추첨\n",
    "S1 = sample(1:45, 6, replace = FALSE) # 1 ~ 45 중에 6개의 숫자를 비복원 추출하겠다.\n",
    "print(S1)"
   ]
  },
  {
   "cell_type": "markdown",
   "id": "fb48662d",
   "metadata": {},
   "source": [
    "> set.seed(): seeding"
   ]
  },
  {
   "cell_type": "code",
   "execution_count": 52,
   "id": "cac68229",
   "metadata": {},
   "outputs": [
    {
     "name": "stdout",
     "output_type": "stream",
     "text": [
      "[1] 28 16 22 37  9  5\n"
     ]
    }
   ],
   "source": [
    "set.seed(1234)\n",
    "S2 = sample(1:45, 6, replace = FALSE)\n",
    "print(S2)"
   ]
  },
  {
   "cell_type": "code",
   "execution_count": 53,
   "id": "7b85c11c",
   "metadata": {},
   "outputs": [
    {
     "name": "stdout",
     "output_type": "stream",
     "text": [
      "[1] 28 16 22 37  9  5\n"
     ]
    }
   ],
   "source": [
    "set.seed(1234)\n",
    "S2 = sample(1:45, 6, replace = FALSE)\n",
    "print(S2)"
   ]
  },
  {
   "cell_type": "markdown",
   "id": "bc6f91b0",
   "metadata": {},
   "source": [
    "# 11. 조건문(if) 활용하기"
   ]
  },
  {
   "cell_type": "markdown",
   "id": "eef857bb",
   "metadata": {},
   "source": [
    "> %in% A에 속해 있는지 확인하는 논리문"
   ]
  },
  {
   "cell_type": "code",
   "execution_count": 54,
   "id": "c0f8eb7e",
   "metadata": {},
   "outputs": [
    {
     "name": "stdout",
     "output_type": "stream",
     "text": [
      "[1] \"FALSE\"\n"
     ]
    }
   ],
   "source": [
    "A = c(1,2,3,4,5)\n",
    "\n",
    "if( 7 %in% A){\n",
    "print(\"TRUE\")\n",
    "} else{ \n",
    "print(\"FALSE\")\n",
    "}"
   ]
  },
  {
   "cell_type": "markdown",
   "id": "91dff07d",
   "metadata": {},
   "source": [
    "# 12. function()을 통해 사용자함수 만들기"
   ]
  },
  {
   "cell_type": "code",
   "execution_count": 55,
   "id": "0a70be74",
   "metadata": {},
   "outputs": [],
   "source": [
    "Plus_One = function(x){\n",
    "y = x+1 \n",
    "return(y)\n",
    "}"
   ]
  },
  {
   "cell_type": "code",
   "execution_count": 56,
   "id": "25decb30",
   "metadata": {},
   "outputs": [
    {
     "data": {
      "text/html": [
       "4"
      ],
      "text/latex": [
       "4"
      ],
      "text/markdown": [
       "4"
      ],
      "text/plain": [
       "[1] 4"
      ]
     },
     "metadata": {},
     "output_type": "display_data"
    }
   ],
   "source": [
    "Plus_One(3)"
   ]
  },
  {
   "cell_type": "markdown",
   "id": "aaef25de",
   "metadata": {},
   "source": [
    "# 13. 패키지 설치"
   ]
  },
  {
   "cell_type": "code",
   "execution_count": 57,
   "id": "1272af77",
   "metadata": {},
   "outputs": [
    {
     "name": "stdout",
     "output_type": "stream",
     "text": [
      "‘/usr/local/lib/R/site-library’의 위치에 패키지(들)을 설치합니다.\n",
      "(왜냐하면 ‘lib’가 지정되지 않았기 때문입니다)\n",
      "‘colorspace’, ‘farver’, ‘labeling’, ‘munsell’, ‘R6’, ‘RColorBrewer’, ‘viridisLite’, ‘magrittr’, ‘pkgconfig’, ‘gtable’, ‘isoband’, ‘scales’, ‘tibble’, ‘withr’(들)을 또한 설치합니다.\n",
      "\n",
      "URL 'https://cloud.r-project.org/src/contrib/colorspace_2.0-2.tar.gz'을 시도합니다\n",
      "Content type 'application/x-gzip' length 2196563 bytes (2.1 MB)\n",
      "==================================================\n",
      "downloaded 2.1 MB\n",
      "\n",
      "URL 'https://cloud.r-project.org/src/contrib/farver_2.1.0.tar.gz'을 시도합니다\n",
      "Content type 'application/x-gzip' length 1281864 bytes (1.2 MB)\n",
      "==================================================\n",
      "downloaded 1.2 MB\n",
      "\n",
      "URL 'https://cloud.r-project.org/src/contrib/labeling_0.4.2.tar.gz'을 시도합니다\n",
      "Content type 'application/x-gzip' length 10156 bytes\n",
      "==================================================\n",
      "downloaded 10156 bytes\n",
      "\n",
      "URL 'https://cloud.r-project.org/src/contrib/munsell_0.5.0.tar.gz'을 시도합니다\n",
      "Content type 'application/x-gzip' length 182653 bytes (178 KB)\n",
      "==================================================\n",
      "downloaded 178 KB\n",
      "\n",
      "URL 'https://cloud.r-project.org/src/contrib/R6_2.5.1.tar.gz'을 시도합니다\n",
      "Content type 'application/x-gzip' length 63422 bytes (61 KB)\n",
      "==================================================\n",
      "downloaded 61 KB\n",
      "\n",
      "URL 'https://cloud.r-project.org/src/contrib/RColorBrewer_1.1-2.tar.gz'을 시도합니다\n",
      "Content type 'application/x-gzip' length 11532 bytes (11 KB)\n",
      "==================================================\n",
      "downloaded 11 KB\n",
      "\n",
      "URL 'https://cloud.r-project.org/src/contrib/viridisLite_0.4.0.tar.gz'을 시도합니다\n",
      "Content type 'application/x-gzip' length 1267080 bytes (1.2 MB)\n",
      "==================================================\n",
      "downloaded 1.2 MB\n",
      "\n",
      "URL 'https://cloud.r-project.org/src/contrib/magrittr_2.0.2.tar.gz'을 시도합니다\n",
      "Content type 'application/x-gzip' length 267039 bytes (260 KB)\n",
      "==================================================\n",
      "downloaded 260 KB\n",
      "\n",
      "URL 'https://cloud.r-project.org/src/contrib/pkgconfig_2.0.3.tar.gz'을 시도합니다\n",
      "Content type 'application/x-gzip' length 6080 bytes\n",
      "==================================================\n",
      "downloaded 6080 bytes\n",
      "\n",
      "URL 'https://cloud.r-project.org/src/contrib/gtable_0.3.0.tar.gz'을 시도합니다\n",
      "Content type 'application/x-gzip' length 368081 bytes (359 KB)\n",
      "==================================================\n",
      "downloaded 359 KB\n",
      "\n",
      "URL 'https://cloud.r-project.org/src/contrib/isoband_0.2.5.tar.gz'을 시도합니다\n",
      "Content type 'application/x-gzip' length 1671911 bytes (1.6 MB)\n",
      "==================================================\n",
      "downloaded 1.6 MB\n",
      "\n",
      "URL 'https://cloud.r-project.org/src/contrib/scales_1.1.1.tar.gz'을 시도합니다\n",
      "Content type 'application/x-gzip' length 515201 bytes (503 KB)\n",
      "==================================================\n",
      "downloaded 503 KB\n",
      "\n",
      "URL 'https://cloud.r-project.org/src/contrib/tibble_3.1.6.tar.gz'을 시도합니다\n",
      "Content type 'application/x-gzip' length 739349 bytes (722 KB)\n",
      "==================================================\n",
      "downloaded 722 KB\n",
      "\n",
      "URL 'https://cloud.r-project.org/src/contrib/withr_2.4.3.tar.gz'을 시도합니다\n",
      "Content type 'application/x-gzip' length 96600 bytes (94 KB)\n",
      "==================================================\n",
      "downloaded 94 KB\n",
      "\n",
      "URL 'https://cloud.r-project.org/src/contrib/ggplot2_3.3.5.tar.gz'을 시도합니다\n",
      "Content type 'application/x-gzip' length 3063309 bytes (2.9 MB)\n",
      "==================================================\n",
      "downloaded 2.9 MB\n",
      "\n",
      "* installing *source* package ‘colorspace’ ...\n",
      "** 패키지 ‘colorspace’는 성공적으로 압축해제되었고, MD5 sums 이 확인되었습니다\n",
      "** using staged installation\n",
      "** libs\n",
      "gcc -std=gnu99 -I\"/usr/share/R/include\" -DNDEBUG     -fpic  -g -O2 -fdebug-prefix-map=/build/r-base-jbaK_j/r-base-3.6.3=. -fstack-protector-strong -Wformat -Werror=format-security -Wdate-time -D_FORTIFY_SOURCE=2 -g  -c colorspace.c -o colorspace.o\n",
      "gcc -std=gnu99 -I\"/usr/share/R/include\" -DNDEBUG     -fpic  -g -O2 -fdebug-prefix-map=/build/r-base-jbaK_j/r-base-3.6.3=. -fstack-protector-strong -Wformat -Werror=format-security -Wdate-time -D_FORTIFY_SOURCE=2 -g  -c init.c -o init.o\n",
      "gcc -std=gnu99 -shared -L/usr/lib/R/lib -Wl,-Bsymbolic-functions -Wl,-z,relro -o colorspace.so colorspace.o init.o -L/usr/lib/R/lib -lR\n",
      "installing to /usr/local/lib/R/site-library/00LOCK-colorspace/00new/colorspace/libs\n",
      "** R\n",
      "** data\n",
      "*** moving datasets to lazyload DB\n",
      "** demo\n",
      "** inst\n",
      "** byte-compile and prepare package for lazy loading\n",
      "** help\n",
      "*** installing help indices\n",
      "** building package indices\n",
      "** installing vignettes\n",
      "** testing if installed package can be loaded from temporary location\n",
      "** checking absolute paths in shared objects and dynamic libraries\n",
      "** testing if installed package can be loaded from final location\n",
      "** testing if installed package keeps a record of temporary installation path\n",
      "* DONE (colorspace)\n",
      "* installing *source* package ‘farver’ ...\n",
      "** 패키지 ‘farver’는 성공적으로 압축해제되었고, MD5 sums 이 확인되었습니다\n",
      "** using staged installation\n",
      "** libs\n",
      "g++ -std=gnu++11 -I\"/usr/share/R/include\" -DNDEBUG     -fpic  -g -O2 -fdebug-prefix-map=/build/r-base-jbaK_j/r-base-3.6.3=. -fstack-protector-strong -Wformat -Werror=format-security -Wdate-time -D_FORTIFY_SOURCE=2 -g  -c ColorSpace.cpp -o ColorSpace.o\n",
      "g++ -std=gnu++11 -I\"/usr/share/R/include\" -DNDEBUG     -fpic  -g -O2 -fdebug-prefix-map=/build/r-base-jbaK_j/r-base-3.6.3=. -fstack-protector-strong -Wformat -Werror=format-security -Wdate-time -D_FORTIFY_SOURCE=2 -g  -c Comparison.cpp -o Comparison.o\n",
      "g++ -std=gnu++11 -I\"/usr/share/R/include\" -DNDEBUG     -fpic  -g -O2 -fdebug-prefix-map=/build/r-base-jbaK_j/r-base-3.6.3=. -fstack-protector-strong -Wformat -Werror=format-security -Wdate-time -D_FORTIFY_SOURCE=2 -g  -c Conversion.cpp -o Conversion.o\n",
      "g++ -std=gnu++11 -I\"/usr/share/R/include\" -DNDEBUG     -fpic  -g -O2 -fdebug-prefix-map=/build/r-base-jbaK_j/r-base-3.6.3=. -fstack-protector-strong -Wformat -Werror=format-security -Wdate-time -D_FORTIFY_SOURCE=2 -g  -c encode.cpp -o encode.o\n",
      "g++ -std=gnu++11 -I\"/usr/share/R/include\" -DNDEBUG     -fpic  -g -O2 -fdebug-prefix-map=/build/r-base-jbaK_j/r-base-3.6.3=. -fstack-protector-strong -Wformat -Werror=format-security -Wdate-time -D_FORTIFY_SOURCE=2 -g  -c farver.cpp -o farver.o\n",
      "g++ -std=gnu++11 -I\"/usr/share/R/include\" -DNDEBUG     -fpic  -g -O2 -fdebug-prefix-map=/build/r-base-jbaK_j/r-base-3.6.3=. -fstack-protector-strong -Wformat -Werror=format-security -Wdate-time -D_FORTIFY_SOURCE=2 -g  -c init.cpp -o init.o\n",
      "g++ -std=gnu++11 -shared -L/usr/lib/R/lib -Wl,-Bsymbolic-functions -Wl,-z,relro -o farver.so ColorSpace.o Comparison.o Conversion.o encode.o farver.o init.o -L/usr/lib/R/lib -lR\n",
      "installing to /usr/local/lib/R/site-library/00LOCK-farver/00new/farver/libs\n",
      "** R\n",
      "** byte-compile and prepare package for lazy loading\n",
      "** help\n",
      "*** installing help indices\n",
      "*** copying figures\n",
      "** building package indices\n",
      "** testing if installed package can be loaded from temporary location\n",
      "** checking absolute paths in shared objects and dynamic libraries\n",
      "** testing if installed package can be loaded from final location\n",
      "** testing if installed package keeps a record of temporary installation path\n",
      "* DONE (farver)\n",
      "* installing *source* package ‘labeling’ ...\n",
      "** 패키지 ‘labeling’는 성공적으로 압축해제되었고, MD5 sums 이 확인되었습니다\n",
      "** using staged installation\n",
      "** R\n",
      "** byte-compile and prepare package for lazy loading\n",
      "** help\n",
      "*** installing help indices\n",
      "** building package indices\n",
      "** testing if installed package can be loaded from temporary location\n",
      "** testing if installed package can be loaded from final location\n",
      "** testing if installed package keeps a record of temporary installation path\n",
      "* DONE (labeling)\n",
      "* installing *source* package ‘R6’ ...\n",
      "** 패키지 ‘R6’는 성공적으로 압축해제되었고, MD5 sums 이 확인되었습니다\n",
      "** using staged installation\n",
      "** R\n",
      "** byte-compile and prepare package for lazy loading\n",
      "** help\n",
      "*** installing help indices\n",
      "*** copying figures\n",
      "** building package indices\n",
      "** testing if installed package can be loaded from temporary location\n",
      "** testing if installed package can be loaded from final location\n",
      "** testing if installed package keeps a record of temporary installation path\n",
      "* DONE (R6)\n",
      "* installing *source* package ‘RColorBrewer’ ...\n",
      "** 패키지 ‘RColorBrewer’는 성공적으로 압축해제되었고, MD5 sums 이 확인되었습니다\n",
      "** using staged installation\n",
      "** R\n",
      "** inst\n",
      "** byte-compile and prepare package for lazy loading\n",
      "** help\n",
      "*** installing help indices\n",
      "** building package indices\n",
      "** testing if installed package can be loaded from temporary location\n",
      "** testing if installed package can be loaded from final location\n",
      "** testing if installed package keeps a record of temporary installation path\n",
      "* DONE (RColorBrewer)\n",
      "* installing *source* package ‘viridisLite’ ...\n",
      "** 패키지 ‘viridisLite’는 성공적으로 압축해제되었고, MD5 sums 이 확인되었습니다\n",
      "** using staged installation\n",
      "** R\n",
      "** inst\n",
      "** byte-compile and prepare package for lazy loading\n",
      "** help\n",
      "*** installing help indices\n",
      "*** copying figures\n",
      "** building package indices\n",
      "** testing if installed package can be loaded from temporary location\n",
      "** testing if installed package can be loaded from final location\n",
      "** testing if installed package keeps a record of temporary installation path\n",
      "* DONE (viridisLite)\n",
      "* installing *source* package ‘magrittr’ ...\n",
      "** 패키지 ‘magrittr’는 성공적으로 압축해제되었고, MD5 sums 이 확인되었습니다\n",
      "** using staged installation\n",
      "** libs\n",
      "gcc -std=gnu99 -I\"/usr/share/R/include\" -DNDEBUG     -fpic  -g -O2 -fdebug-prefix-map=/build/r-base-jbaK_j/r-base-3.6.3=. -fstack-protector-strong -Wformat -Werror=format-security -Wdate-time -D_FORTIFY_SOURCE=2 -g  -c pipe.c -o pipe.o\n",
      "gcc -std=gnu99 -I\"/usr/share/R/include\" -DNDEBUG     -fpic  -g -O2 -fdebug-prefix-map=/build/r-base-jbaK_j/r-base-3.6.3=. -fstack-protector-strong -Wformat -Werror=format-security -Wdate-time -D_FORTIFY_SOURCE=2 -g  -c utils.c -o utils.o\n",
      "gcc -std=gnu99 -shared -L/usr/lib/R/lib -Wl,-Bsymbolic-functions -Wl,-z,relro -o magrittr.so pipe.o utils.o -L/usr/lib/R/lib -lR\n",
      "installing to /usr/local/lib/R/site-library/00LOCK-magrittr/00new/magrittr/libs\n",
      "** R\n",
      "** inst\n",
      "** byte-compile and prepare package for lazy loading\n",
      "** help\n",
      "*** installing help indices\n",
      "*** copying figures\n",
      "** building package indices\n",
      "** installing vignettes\n",
      "** testing if installed package can be loaded from temporary location\n",
      "** checking absolute paths in shared objects and dynamic libraries\n",
      "** testing if installed package can be loaded from final location\n",
      "** testing if installed package keeps a record of temporary installation path\n",
      "* DONE (magrittr)\n",
      "* installing *source* package ‘pkgconfig’ ...\n",
      "** 패키지 ‘pkgconfig’는 성공적으로 압축해제되었고, MD5 sums 이 확인되었습니다\n",
      "** using staged installation\n",
      "** R\n",
      "** inst\n",
      "** byte-compile and prepare package for lazy loading\n",
      "** help\n",
      "*** installing help indices\n",
      "** building package indices\n",
      "** testing if installed package can be loaded from temporary location\n",
      "** testing if installed package can be loaded from final location\n",
      "** testing if installed package keeps a record of temporary installation path\n",
      "* DONE (pkgconfig)\n",
      "* installing *source* package ‘gtable’ ...\n",
      "** 패키지 ‘gtable’는 성공적으로 압축해제되었고, MD5 sums 이 확인되었습니다\n",
      "** using staged installation\n",
      "** R\n",
      "** inst\n",
      "** byte-compile and prepare package for lazy loading\n",
      "** help\n",
      "*** installing help indices\n",
      "*** copying figures\n",
      "** building package indices\n",
      "** installing vignettes\n",
      "** testing if installed package can be loaded from temporary location\n",
      "** testing if installed package can be loaded from final location\n",
      "** testing if installed package keeps a record of temporary installation path\n",
      "* DONE (gtable)\n",
      "* installing *source* package ‘isoband’ ...\n",
      "** 패키지 ‘isoband’는 성공적으로 압축해제되었고, MD5 sums 이 확인되었습니다\n",
      "** using staged installation\n",
      "** libs\n",
      "g++ -std=gnu++11 -I\"/usr/share/R/include\" -DNDEBUG -Itestthat    -fpic  -g -O2 -fdebug-prefix-map=/build/r-base-jbaK_j/r-base-3.6.3=. -fstack-protector-strong -Wformat -Werror=format-security -Wdate-time -D_FORTIFY_SOURCE=2 -g  -c clip-lines.cpp -o clip-lines.o\n",
      "g++ -std=gnu++11 -I\"/usr/share/R/include\" -DNDEBUG -Itestthat    -fpic  -g -O2 -fdebug-prefix-map=/build/r-base-jbaK_j/r-base-3.6.3=. -fstack-protector-strong -Wformat -Werror=format-security -Wdate-time -D_FORTIFY_SOURCE=2 -g  -c init.cpp -o init.o\n",
      "g++ -std=gnu++11 -I\"/usr/share/R/include\" -DNDEBUG -Itestthat    -fpic  -g -O2 -fdebug-prefix-map=/build/r-base-jbaK_j/r-base-3.6.3=. -fstack-protector-strong -Wformat -Werror=format-security -Wdate-time -D_FORTIFY_SOURCE=2 -g  -c isoband.cpp -o isoband.o\n",
      "g++ -std=gnu++11 -I\"/usr/share/R/include\" -DNDEBUG -Itestthat    -fpic  -g -O2 -fdebug-prefix-map=/build/r-base-jbaK_j/r-base-3.6.3=. -fstack-protector-strong -Wformat -Werror=format-security -Wdate-time -D_FORTIFY_SOURCE=2 -g  -c polygon.cpp -o polygon.o\n",
      "g++ -std=gnu++11 -I\"/usr/share/R/include\" -DNDEBUG -Itestthat    -fpic  -g -O2 -fdebug-prefix-map=/build/r-base-jbaK_j/r-base-3.6.3=. -fstack-protector-strong -Wformat -Werror=format-security -Wdate-time -D_FORTIFY_SOURCE=2 -g  -c separate-polygons.cpp -o separate-polygons.o\n",
      "g++ -std=gnu++11 -I\"/usr/share/R/include\" -DNDEBUG -Itestthat    -fpic  -g -O2 -fdebug-prefix-map=/build/r-base-jbaK_j/r-base-3.6.3=. -fstack-protector-strong -Wformat -Werror=format-security -Wdate-time -D_FORTIFY_SOURCE=2 -g  -c test-clip-lines.cpp -o test-clip-lines.o\n",
      "g++ -std=gnu++11 -I\"/usr/share/R/include\" -DNDEBUG -Itestthat    -fpic  -g -O2 -fdebug-prefix-map=/build/r-base-jbaK_j/r-base-3.6.3=. -fstack-protector-strong -Wformat -Werror=format-security -Wdate-time -D_FORTIFY_SOURCE=2 -g  -c test-runner.cpp -o test-runner.o\n",
      "g++ -std=gnu++11 -I\"/usr/share/R/include\" -DNDEBUG -Itestthat    -fpic  -g -O2 -fdebug-prefix-map=/build/r-base-jbaK_j/r-base-3.6.3=. -fstack-protector-strong -Wformat -Werror=format-security -Wdate-time -D_FORTIFY_SOURCE=2 -g  -c test-separate-polygons.cpp -o test-separate-polygons.o\n",
      "g++ -std=gnu++11 -shared -L/usr/lib/R/lib -Wl,-Bsymbolic-functions -Wl,-z,relro -o isoband.so clip-lines.o init.o isoband.o polygon.o separate-polygons.o test-clip-lines.o test-runner.o test-separate-polygons.o -L/usr/lib/R/lib -lR\n",
      "installing to /usr/local/lib/R/site-library/00LOCK-isoband/00new/isoband/libs\n",
      "** R\n",
      "** inst\n",
      "** byte-compile and prepare package for lazy loading\n",
      "** help\n",
      "*** installing help indices\n",
      "*** copying figures\n",
      "** building package indices\n",
      "** installing vignettes\n",
      "** testing if installed package can be loaded from temporary location\n",
      "** checking absolute paths in shared objects and dynamic libraries\n",
      "** testing if installed package can be loaded from final location\n",
      "** testing if installed package keeps a record of temporary installation path\n",
      "* DONE (isoband)\n",
      "* installing *source* package ‘withr’ ...\n",
      "** 패키지 ‘withr’는 성공적으로 압축해제되었고, MD5 sums 이 확인되었습니다\n",
      "** using staged installation\n",
      "** R\n",
      "** inst\n",
      "** byte-compile and prepare package for lazy loading\n",
      "** help\n",
      "*** installing help indices\n",
      "*** copying figures\n",
      "** building package indices\n",
      "** installing vignettes\n",
      "** testing if installed package can be loaded from temporary location\n",
      "** testing if installed package can be loaded from final location\n",
      "** testing if installed package keeps a record of temporary installation path\n",
      "* DONE (withr)\n",
      "* installing *source* package ‘munsell’ ...\n",
      "** 패키지 ‘munsell’는 성공적으로 압축해제되었고, MD5 sums 이 확인되었습니다\n",
      "** using staged installation\n",
      "** R\n",
      "** inst\n",
      "** byte-compile and prepare package for lazy loading\n",
      "** help\n",
      "*** installing help indices\n",
      "*** copying figures\n",
      "** building package indices\n",
      "** testing if installed package can be loaded from temporary location\n",
      "** testing if installed package can be loaded from final location\n",
      "** testing if installed package keeps a record of temporary installation path\n",
      "* DONE (munsell)\n",
      "* installing *source* package ‘tibble’ ...\n",
      "** 패키지 ‘tibble’는 성공적으로 압축해제되었고, MD5 sums 이 확인되었습니다\n",
      "** using staged installation\n",
      "** libs\n",
      "gcc -std=gnu99 -I\"/usr/share/R/include\" -DNDEBUG     -fpic  -g -O2 -fdebug-prefix-map=/build/r-base-jbaK_j/r-base-3.6.3=. -fstack-protector-strong -Wformat -Werror=format-security -Wdate-time -D_FORTIFY_SOURCE=2 -g  -c attributes.c -o attributes.o\n",
      "gcc -std=gnu99 -I\"/usr/share/R/include\" -DNDEBUG     -fpic  -g -O2 -fdebug-prefix-map=/build/r-base-jbaK_j/r-base-3.6.3=. -fstack-protector-strong -Wformat -Werror=format-security -Wdate-time -D_FORTIFY_SOURCE=2 -g  -c coerce.c -o coerce.o\n",
      "gcc -std=gnu99 -I\"/usr/share/R/include\" -DNDEBUG     -fpic  -g -O2 -fdebug-prefix-map=/build/r-base-jbaK_j/r-base-3.6.3=. -fstack-protector-strong -Wformat -Werror=format-security -Wdate-time -D_FORTIFY_SOURCE=2 -g  -c init.c -o init.o\n",
      "gcc -std=gnu99 -I\"/usr/share/R/include\" -DNDEBUG     -fpic  -g -O2 -fdebug-prefix-map=/build/r-base-jbaK_j/r-base-3.6.3=. -fstack-protector-strong -Wformat -Werror=format-security -Wdate-time -D_FORTIFY_SOURCE=2 -g  -c matrixToDataFrame.c -o matrixToDataFrame.o\n",
      "gcc -std=gnu99 -shared -L/usr/lib/R/lib -Wl,-Bsymbolic-functions -Wl,-z,relro -o tibble.so attributes.o coerce.o init.o matrixToDataFrame.o -L/usr/lib/R/lib -lR\n",
      "installing to /usr/local/lib/R/site-library/00LOCK-tibble/00new/tibble/libs\n",
      "** R\n",
      "** inst\n",
      "** byte-compile and prepare package for lazy loading\n",
      "** help\n",
      "*** installing help indices\n",
      "*** copying figures\n",
      "** building package indices\n",
      "** installing vignettes\n",
      "** testing if installed package can be loaded from temporary location\n",
      "** checking absolute paths in shared objects and dynamic libraries\n",
      "** testing if installed package can be loaded from final location\n",
      "** testing if installed package keeps a record of temporary installation path\n",
      "* DONE (tibble)\n",
      "* installing *source* package ‘scales’ ...\n",
      "** 패키지 ‘scales’는 성공적으로 압축해제되었고, MD5 sums 이 확인되었습니다\n",
      "** using staged installation\n",
      "** R\n",
      "** byte-compile and prepare package for lazy loading\n",
      "** help\n",
      "*** installing help indices\n",
      "*** copying figures\n",
      "** building package indices\n",
      "** testing if installed package can be loaded from temporary location\n",
      "** testing if installed package can be loaded from final location\n",
      "** testing if installed package keeps a record of temporary installation path\n",
      "* DONE (scales)\n",
      "* installing *source* package ‘ggplot2’ ...\n",
      "** 패키지 ‘ggplot2’는 성공적으로 압축해제되었고, MD5 sums 이 확인되었습니다\n",
      "** using staged installation\n",
      "** R\n",
      "** data\n",
      "*** moving datasets to lazyload DB\n",
      "** inst\n",
      "** byte-compile and prepare package for lazy loading\n",
      "** help\n",
      "*** installing help indices\n",
      "*** copying figures\n",
      "** building package indices\n",
      "** installing vignettes\n",
      "** testing if installed package can be loaded from temporary location\n",
      "** testing if installed package can be loaded from final location\n",
      "** testing if installed package keeps a record of temporary installation path\n",
      "* DONE (ggplot2)\n",
      "\n",
      "다운로드한 소스 패키지들은 다음의 위치에 있습니다\n"
     ]
    }
   ],
   "source": [
    "install.packages(\"ggplot2\") # install package \"ggplot2\"\n",
    "library(ggplot2)  # load package"
   ]
  },
  {
   "cell_type": "markdown",
   "id": "f151e96b",
   "metadata": {},
   "source": [
    "# Review"
   ]
  },
  {
   "cell_type": "markdown",
   "id": "34884dad",
   "metadata": {},
   "source": [
    "* 로또 번호 추출하기"
   ]
  },
  {
   "cell_type": "code",
   "execution_count": 58,
   "id": "77ba7e7b",
   "metadata": {},
   "outputs": [
    {
     "data": {
      "text/html": [
       "<style>\n",
       ".list-inline {list-style: none; margin:0; padding: 0}\n",
       ".list-inline>li {display: inline-block}\n",
       ".list-inline>li:not(:last-child)::after {content: \"\\00b7\"; padding: 0 .5ex}\n",
       "</style>\n",
       "<ol class=list-inline><li>26</li><li>6</li><li>15</li><li>14</li><li>42</li><li>4</li></ol>\n"
      ],
      "text/latex": [
       "\\begin{enumerate*}\n",
       "\\item 26\n",
       "\\item 6\n",
       "\\item 15\n",
       "\\item 14\n",
       "\\item 42\n",
       "\\item 4\n",
       "\\end{enumerate*}\n"
      ],
      "text/markdown": [
       "1. 26\n",
       "2. 6\n",
       "3. 15\n",
       "4. 14\n",
       "5. 42\n",
       "6. 4\n",
       "\n",
       "\n"
      ],
      "text/plain": [
       "[1] 26  6 15 14 42  4"
      ]
     },
     "metadata": {},
     "output_type": "display_data"
    }
   ],
   "source": [
    "sample(1:45, 6, FALSE)"
   ]
  },
  {
   "cell_type": "markdown",
   "id": "90b41a73",
   "metadata": {},
   "source": [
    "* 벡터 생성"
   ]
  },
  {
   "cell_type": "code",
   "execution_count": 59,
   "id": "dbd79777",
   "metadata": {
    "scrolled": true
   },
   "outputs": [
    {
     "data": {
      "text/html": [
       "<style>\n",
       ".list-inline {list-style: none; margin:0; padding: 0}\n",
       ".list-inline>li {display: inline-block}\n",
       ".list-inline>li:not(:last-child)::after {content: \"\\00b7\"; padding: 0 .5ex}\n",
       "</style>\n",
       "<ol class=list-inline><li>1</li><li>2</li><li>3</li><li>4</li><li>5</li><li>6</li><li>7</li><li>8</li><li>9</li><li>10</li><li>11</li><li>12</li><li>13</li><li>14</li><li>15</li><li>16</li><li>17</li><li>18</li><li>19</li><li>20</li><li>21</li><li>22</li><li>23</li><li>24</li><li>25</li><li>26</li><li>27</li><li>28</li><li>29</li><li>30</li><li>31</li><li>32</li><li>33</li><li>34</li><li>35</li><li>36</li><li>37</li><li>38</li><li>39</li><li>40</li><li>41</li><li>42</li><li>43</li><li>44</li><li>45</li><li>46</li><li>47</li><li>48</li><li>49</li><li>50</li><li>51</li><li>52</li><li>53</li><li>54</li><li>55</li><li>56</li><li>57</li><li>58</li><li>59</li><li>60</li><li>61</li><li>62</li><li>63</li><li>64</li><li>65</li><li>66</li><li>67</li><li>68</li><li>69</li><li>70</li><li>71</li><li>72</li><li>73</li><li>74</li><li>75</li><li>76</li><li>77</li><li>78</li><li>79</li><li>80</li><li>81</li><li>82</li><li>83</li><li>84</li><li>85</li><li>86</li><li>87</li><li>88</li><li>89</li><li>90</li><li>91</li><li>92</li><li>93</li><li>94</li><li>95</li><li>96</li><li>97</li><li>98</li><li>99</li></ol>\n"
      ],
      "text/latex": [
       "\\begin{enumerate*}\n",
       "\\item 1\n",
       "\\item 2\n",
       "\\item 3\n",
       "\\item 4\n",
       "\\item 5\n",
       "\\item 6\n",
       "\\item 7\n",
       "\\item 8\n",
       "\\item 9\n",
       "\\item 10\n",
       "\\item 11\n",
       "\\item 12\n",
       "\\item 13\n",
       "\\item 14\n",
       "\\item 15\n",
       "\\item 16\n",
       "\\item 17\n",
       "\\item 18\n",
       "\\item 19\n",
       "\\item 20\n",
       "\\item 21\n",
       "\\item 22\n",
       "\\item 23\n",
       "\\item 24\n",
       "\\item 25\n",
       "\\item 26\n",
       "\\item 27\n",
       "\\item 28\n",
       "\\item 29\n",
       "\\item 30\n",
       "\\item 31\n",
       "\\item 32\n",
       "\\item 33\n",
       "\\item 34\n",
       "\\item 35\n",
       "\\item 36\n",
       "\\item 37\n",
       "\\item 38\n",
       "\\item 39\n",
       "\\item 40\n",
       "\\item 41\n",
       "\\item 42\n",
       "\\item 43\n",
       "\\item 44\n",
       "\\item 45\n",
       "\\item 46\n",
       "\\item 47\n",
       "\\item 48\n",
       "\\item 49\n",
       "\\item 50\n",
       "\\item 51\n",
       "\\item 52\n",
       "\\item 53\n",
       "\\item 54\n",
       "\\item 55\n",
       "\\item 56\n",
       "\\item 57\n",
       "\\item 58\n",
       "\\item 59\n",
       "\\item 60\n",
       "\\item 61\n",
       "\\item 62\n",
       "\\item 63\n",
       "\\item 64\n",
       "\\item 65\n",
       "\\item 66\n",
       "\\item 67\n",
       "\\item 68\n",
       "\\item 69\n",
       "\\item 70\n",
       "\\item 71\n",
       "\\item 72\n",
       "\\item 73\n",
       "\\item 74\n",
       "\\item 75\n",
       "\\item 76\n",
       "\\item 77\n",
       "\\item 78\n",
       "\\item 79\n",
       "\\item 80\n",
       "\\item 81\n",
       "\\item 82\n",
       "\\item 83\n",
       "\\item 84\n",
       "\\item 85\n",
       "\\item 86\n",
       "\\item 87\n",
       "\\item 88\n",
       "\\item 89\n",
       "\\item 90\n",
       "\\item 91\n",
       "\\item 92\n",
       "\\item 93\n",
       "\\item 94\n",
       "\\item 95\n",
       "\\item 96\n",
       "\\item 97\n",
       "\\item 98\n",
       "\\item 99\n",
       "\\end{enumerate*}\n"
      ],
      "text/markdown": [
       "1. 1\n",
       "2. 2\n",
       "3. 3\n",
       "4. 4\n",
       "5. 5\n",
       "6. 6\n",
       "7. 7\n",
       "8. 8\n",
       "9. 9\n",
       "10. 10\n",
       "11. 11\n",
       "12. 12\n",
       "13. 13\n",
       "14. 14\n",
       "15. 15\n",
       "16. 16\n",
       "17. 17\n",
       "18. 18\n",
       "19. 19\n",
       "20. 20\n",
       "21. 21\n",
       "22. 22\n",
       "23. 23\n",
       "24. 24\n",
       "25. 25\n",
       "26. 26\n",
       "27. 27\n",
       "28. 28\n",
       "29. 29\n",
       "30. 30\n",
       "31. 31\n",
       "32. 32\n",
       "33. 33\n",
       "34. 34\n",
       "35. 35\n",
       "36. 36\n",
       "37. 37\n",
       "38. 38\n",
       "39. 39\n",
       "40. 40\n",
       "41. 41\n",
       "42. 42\n",
       "43. 43\n",
       "44. 44\n",
       "45. 45\n",
       "46. 46\n",
       "47. 47\n",
       "48. 48\n",
       "49. 49\n",
       "50. 50\n",
       "51. 51\n",
       "52. 52\n",
       "53. 53\n",
       "54. 54\n",
       "55. 55\n",
       "56. 56\n",
       "57. 57\n",
       "58. 58\n",
       "59. 59\n",
       "60. 60\n",
       "61. 61\n",
       "62. 62\n",
       "63. 63\n",
       "64. 64\n",
       "65. 65\n",
       "66. 66\n",
       "67. 67\n",
       "68. 68\n",
       "69. 69\n",
       "70. 70\n",
       "71. 71\n",
       "72. 72\n",
       "73. 73\n",
       "74. 74\n",
       "75. 75\n",
       "76. 76\n",
       "77. 77\n",
       "78. 78\n",
       "79. 79\n",
       "80. 80\n",
       "81. 81\n",
       "82. 82\n",
       "83. 83\n",
       "84. 84\n",
       "85. 85\n",
       "86. 86\n",
       "87. 87\n",
       "88. 88\n",
       "89. 89\n",
       "90. 90\n",
       "91. 91\n",
       "92. 92\n",
       "93. 93\n",
       "94. 94\n",
       "95. 95\n",
       "96. 96\n",
       "97. 97\n",
       "98. 98\n",
       "99. 99\n",
       "\n",
       "\n"
      ],
      "text/plain": [
       " [1]  1  2  3  4  5  6  7  8  9 10 11 12 13 14 15 16 17 18 19 20 21 22 23 24 25\n",
       "[26] 26 27 28 29 30 31 32 33 34 35 36 37 38 39 40 41 42 43 44 45 46 47 48 49 50\n",
       "[51] 51 52 53 54 55 56 57 58 59 60 61 62 63 64 65 66 67 68 69 70 71 72 73 74 75\n",
       "[76] 76 77 78 79 80 81 82 83 84 85 86 87 88 89 90 91 92 93 94 95 96 97 98 99"
      ]
     },
     "metadata": {},
     "output_type": "display_data"
    }
   ],
   "source": [
    "AV = c(1:99)\n",
    "AV"
   ]
  },
  {
   "cell_type": "code",
   "execution_count": 60,
   "id": "24d90171",
   "metadata": {},
   "outputs": [
    {
     "data": {
      "text/html": [
       "<style>\n",
       ".list-inline {list-style: none; margin:0; padding: 0}\n",
       ".list-inline>li {display: inline-block}\n",
       ".list-inline>li:not(:last-child)::after {content: \"\\00b7\"; padding: 0 .5ex}\n",
       "</style>\n",
       "<ol class=list-inline><li>1</li><li>1</li><li>2</li><li>2</li><li>3</li><li>3</li><li>4</li><li>4</li><li>5</li><li>5</li></ol>\n"
      ],
      "text/latex": [
       "\\begin{enumerate*}\n",
       "\\item 1\n",
       "\\item 1\n",
       "\\item 2\n",
       "\\item 2\n",
       "\\item 3\n",
       "\\item 3\n",
       "\\item 4\n",
       "\\item 4\n",
       "\\item 5\n",
       "\\item 5\n",
       "\\end{enumerate*}\n"
      ],
      "text/markdown": [
       "1. 1\n",
       "2. 1\n",
       "3. 2\n",
       "4. 2\n",
       "5. 3\n",
       "6. 3\n",
       "7. 4\n",
       "8. 4\n",
       "9. 5\n",
       "10. 5\n",
       "\n",
       "\n"
      ],
      "text/plain": [
       " [1] 1 1 2 2 3 3 4 4 5 5"
      ]
     },
     "metadata": {},
     "output_type": "display_data"
    }
   ],
   "source": [
    "BV = rep(c(1:5), rep(2, 5))\n",
    "BV"
   ]
  },
  {
   "cell_type": "markdown",
   "id": "0eacad21",
   "metadata": {},
   "source": [
    "* 행렬 생성"
   ]
  },
  {
   "cell_type": "code",
   "execution_count": 61,
   "id": "0a7cb6a6",
   "metadata": {},
   "outputs": [
    {
     "data": {
      "text/html": [
       "<table class=\"dataframe\">\n",
       "<caption>A matrix: 3 × 3 of type int</caption>\n",
       "<tbody>\n",
       "\t<tr><td>1</td><td>2</td><td>3</td></tr>\n",
       "\t<tr><td>4</td><td>5</td><td>6</td></tr>\n",
       "\t<tr><td>7</td><td>8</td><td>9</td></tr>\n",
       "</tbody>\n",
       "</table>\n"
      ],
      "text/latex": [
       "A matrix: 3 × 3 of type int\n",
       "\\begin{tabular}{lll}\n",
       "\t 1 & 2 & 3\\\\\n",
       "\t 4 & 5 & 6\\\\\n",
       "\t 7 & 8 & 9\\\\\n",
       "\\end{tabular}\n"
      ],
      "text/markdown": [
       "\n",
       "A matrix: 3 × 3 of type int\n",
       "\n",
       "| 1 | 2 | 3 |\n",
       "| 4 | 5 | 6 |\n",
       "| 7 | 8 | 9 |\n",
       "\n"
      ],
      "text/plain": [
       "     [,1] [,2] [,3]\n",
       "[1,] 1    2    3   \n",
       "[2,] 4    5    6   \n",
       "[3,] 7    8    9   "
      ]
     },
     "metadata": {},
     "output_type": "display_data"
    }
   ],
   "source": [
    "M = t(matrix(seq(1,9), nrow=3))\n",
    "M"
   ]
  },
  {
   "cell_type": "markdown",
   "id": "ddb0b509",
   "metadata": {},
   "source": [
    "* 함수 생성"
   ]
  },
  {
   "cell_type": "code",
   "execution_count": 62,
   "id": "6d4a65c0",
   "metadata": {},
   "outputs": [],
   "source": [
    "Quadratic = function(x, y){\n",
    "return(x * x + y + 10)\n",
    "}"
   ]
  },
  {
   "cell_type": "markdown",
   "id": "2a17c538",
   "metadata": {},
   "source": [
    "* 구구단"
   ]
  },
  {
   "cell_type": "code",
   "execution_count": 63,
   "id": "49e6b9e1",
   "metadata": {},
   "outputs": [
    {
     "name": "stdout",
     "output_type": "stream",
     "text": [
      "[1] 1 2 3 4 5 6 7 8 9\n",
      "[1]  2  4  6  8 10 12 14 16 18\n",
      "[1]  3  6  9 12 15 18 21 24 27\n",
      "[1]  4  8 12 16 20 24 28 32 36\n",
      "[1]  5 10 15 20 25 30 35 40 45\n",
      "[1]  6 12 18 24 30 36 42 48 54\n",
      "[1]  7 14 21 28 35 42 49 56 63\n",
      "[1]  8 16 24 32 40 48 56 64 72\n",
      "[1]  9 18 27 36 45 54 63 72 81\n"
     ]
    }
   ],
   "source": [
    "for(i in seq(1, 9)){\n",
    "    print(c(1:9) * i)\n",
    "}"
   ]
  }
 ],
 "metadata": {
  "kernelspec": {
   "display_name": "R",
   "language": "R",
   "name": "ir"
  },
  "language_info": {
   "codemirror_mode": "r",
   "file_extension": ".r",
   "mimetype": "text/x-r-source",
   "name": "R",
   "pygments_lexer": "r",
   "version": "3.6.3"
  }
 },
 "nbformat": 4,
 "nbformat_minor": 5
}
