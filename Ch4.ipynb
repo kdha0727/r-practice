{
 "cells": [
  {
   "cell_type": "markdown",
   "id": "38f119cc",
   "metadata": {},
   "source": [
    "# 1. 변수에 대한 요약 값 살펴보기"
   ]
  },
  {
   "cell_type": "code",
   "execution_count": 1,
   "id": "ff105901",
   "metadata": {},
   "outputs": [],
   "source": [
    "HR = read.csv('./HR_comma_sep.csv')"
   ]
  },
  {
   "cell_type": "code",
   "execution_count": 2,
   "id": "13d1bb4f",
   "metadata": {},
   "outputs": [
    {
     "data": {
      "text/html": [
       "<style>\n",
       ".dl-inline {width: auto; margin:0; padding: 0}\n",
       ".dl-inline>dt, .dl-inline>dd {float: none; width: auto; display: inline-block}\n",
       ".dl-inline>dt::after {content: \":\\0020\"; padding-right: .5ex}\n",
       ".dl-inline>dt:not(:first-of-type) {padding-left: .5ex}\n",
       "</style><dl class=dl-inline><dt>high</dt><dd>1237</dd><dt>low</dt><dd>7316</dd><dt>medium</dt><dd>6446</dd></dl>\n"
      ],
      "text/latex": [
       "\\begin{description*}\n",
       "\\item[high] 1237\n",
       "\\item[low] 7316\n",
       "\\item[medium] 6446\n",
       "\\end{description*}\n"
      ],
      "text/markdown": [
       "high\n",
       ":   1237low\n",
       ":   7316medium\n",
       ":   6446\n",
       "\n"
      ],
      "text/plain": [
       "  high    low medium \n",
       "  1237   7316   6446 "
      ]
     },
     "metadata": {},
     "output_type": "display_data"
    }
   ],
   "source": [
    "summary(HR$salary)"
   ]
  },
  {
   "cell_type": "code",
   "execution_count": 3,
   "id": "3eabaf8b",
   "metadata": {},
   "outputs": [
    {
     "data": {
      "text/plain": [
       "   Min. 1st Qu.  Median    Mean 3rd Qu.    Max. \n",
       " 0.0900  0.4400  0.6400  0.6128  0.8200  1.0000 "
      ]
     },
     "metadata": {},
     "output_type": "display_data"
    }
   ],
   "source": [
    "summary(HR$satisfaction_level)"
   ]
  },
  {
   "cell_type": "markdown",
   "id": "5d689c46",
   "metadata": {},
   "source": [
    "# 2. 분위수 계산"
   ]
  },
  {
   "cell_type": "code",
   "execution_count": 4,
   "id": "4751e25a",
   "metadata": {},
   "outputs": [
    {
     "data": {
      "text/html": [
       "<style>\n",
       ".dl-inline {width: auto; margin:0; padding: 0}\n",
       ".dl-inline>dt, .dl-inline>dd {float: none; width: auto; display: inline-block}\n",
       ".dl-inline>dt::after {content: \":\\0020\"; padding-right: .5ex}\n",
       ".dl-inline>dt:not(:first-of-type) {padding-left: .5ex}\n",
       "</style><dl class=dl-inline><dt>0%</dt><dd>0.09</dd><dt>25%</dt><dd>0.44</dd><dt>50%</dt><dd>0.64</dd><dt>75%</dt><dd>0.82</dd><dt>100%</dt><dd>1</dd></dl>\n"
      ],
      "text/latex": [
       "\\begin{description*}\n",
       "\\item[0\\textbackslash{}\\%] 0.09\n",
       "\\item[25\\textbackslash{}\\%] 0.44\n",
       "\\item[50\\textbackslash{}\\%] 0.64\n",
       "\\item[75\\textbackslash{}\\%] 0.82\n",
       "\\item[100\\textbackslash{}\\%] 1\n",
       "\\end{description*}\n"
      ],
      "text/markdown": [
       "0%\n",
       ":   0.0925%\n",
       ":   0.4450%\n",
       ":   0.6475%\n",
       ":   0.82100%\n",
       ":   1\n",
       "\n"
      ],
      "text/plain": [
       "  0%  25%  50%  75% 100% \n",
       "0.09 0.44 0.64 0.82 1.00 "
      ]
     },
     "metadata": {},
     "output_type": "display_data"
    }
   ],
   "source": [
    "quantile(HR$satisfaction_level)"
   ]
  },
  {
   "cell_type": "code",
   "execution_count": 5,
   "id": "8faac06a",
   "metadata": {},
   "outputs": [
    {
     "data": {
      "text/html": [
       "<style>\n",
       ".dl-inline {width: auto; margin:0; padding: 0}\n",
       ".dl-inline>dt, .dl-inline>dd {float: none; width: auto; display: inline-block}\n",
       ".dl-inline>dt::after {content: \":\\0020\"; padding-right: .5ex}\n",
       ".dl-inline>dt:not(:first-of-type) {padding-left: .5ex}\n",
       "</style><dl class=dl-inline><dt>10%</dt><dd>0.21</dd><dt>30%</dt><dd>0.49</dd><dt>60%</dt><dd>0.72</dd><dt>90%</dt><dd>0.92</dd></dl>\n"
      ],
      "text/latex": [
       "\\begin{description*}\n",
       "\\item[10\\textbackslash{}\\%] 0.21\n",
       "\\item[30\\textbackslash{}\\%] 0.49\n",
       "\\item[60\\textbackslash{}\\%] 0.72\n",
       "\\item[90\\textbackslash{}\\%] 0.92\n",
       "\\end{description*}\n"
      ],
      "text/markdown": [
       "10%\n",
       ":   0.2130%\n",
       ":   0.4960%\n",
       ":   0.7290%\n",
       ":   0.92\n",
       "\n"
      ],
      "text/plain": [
       " 10%  30%  60%  90% \n",
       "0.21 0.49 0.72 0.92 "
      ]
     },
     "metadata": {},
     "output_type": "display_data"
    }
   ],
   "source": [
    "quantile(HR$satisfaction_level, probs = c(0.1,0.3,0.6,0.9))"
   ]
  },
  {
   "cell_type": "markdown",
   "id": "5c9c8bc6",
   "metadata": {},
   "source": [
    "# 3. 합, 평균, 표준편차 구하기"
   ]
  },
  {
   "cell_type": "markdown",
   "id": "aaea4901",
   "metadata": {},
   "source": [
    "* 단일 변수"
   ]
  },
  {
   "cell_type": "code",
   "execution_count": 6,
   "id": "28b41b85",
   "metadata": {},
   "outputs": [
    {
     "data": {
      "text/html": [
       "9191.89"
      ],
      "text/latex": [
       "9191.89"
      ],
      "text/markdown": [
       "9191.89"
      ],
      "text/plain": [
       "[1] 9191.89"
      ]
     },
     "metadata": {},
     "output_type": "display_data"
    }
   ],
   "source": [
    "sum(HR$satisfaction_level)"
   ]
  },
  {
   "cell_type": "code",
   "execution_count": 7,
   "id": "a3bbda09",
   "metadata": {},
   "outputs": [
    {
     "data": {
      "text/html": [
       "0.716101740116008"
      ],
      "text/latex": [
       "0.716101740116008"
      ],
      "text/markdown": [
       "0.716101740116008"
      ],
      "text/plain": [
       "[1] 0.7161017"
      ]
     },
     "metadata": {},
     "output_type": "display_data"
    }
   ],
   "source": [
    "mean(HR$last_evaluation)"
   ]
  },
  {
   "cell_type": "code",
   "execution_count": 8,
   "id": "f0578481",
   "metadata": {},
   "outputs": [
    {
     "data": {
      "text/html": [
       "0.248630651061143"
      ],
      "text/latex": [
       "0.248630651061143"
      ],
      "text/markdown": [
       "0.248630651061143"
      ],
      "text/plain": [
       "[1] 0.2486307"
      ]
     },
     "metadata": {},
     "output_type": "display_data"
    }
   ],
   "source": [
    "sd(HR$satisfaction_level)"
   ]
  },
  {
   "cell_type": "markdown",
   "id": "03508104",
   "metadata": {},
   "source": [
    "* 다중 변수\n",
    "\n",
    "> rowSums, rowMeans: obs(행)별로 합,평균 구하기"
   ]
  },
  {
   "cell_type": "code",
   "execution_count": 9,
   "id": "d8847af3",
   "metadata": {},
   "outputs": [
    {
     "name": "stdout",
     "output_type": "stream",
     "text": [
      "  satisfaction_level      last_evaluation       number_project \n",
      "           0.6128335            0.7161017            3.8030535 \n",
      "average_montly_hours   time_spend_company \n",
      "         201.0503367            3.4982332 \n"
     ]
    }
   ],
   "source": [
    "print(colMeans(HR[1:5]))"
   ]
  },
  {
   "cell_type": "code",
   "execution_count": 10,
   "id": "433611e4",
   "metadata": {},
   "outputs": [
    {
     "name": "stdout",
     "output_type": "stream",
     "text": [
      "  satisfaction_level      last_evaluation       number_project \n",
      "             9191.89             10740.81             57042.00 \n",
      "average_montly_hours   time_spend_company \n",
      "          3015554.00             52470.00 \n"
     ]
    }
   ],
   "source": [
    "print(colSums(HR[1:5]))"
   ]
  },
  {
   "cell_type": "markdown",
   "id": "dad0a736",
   "metadata": {},
   "source": [
    "# 4. 빈도 테이블 작성하기"
   ]
  },
  {
   "cell_type": "markdown",
   "id": "9ed56f17",
   "metadata": {},
   "source": [
    "* 1차원 빈도 테이블"
   ]
  },
  {
   "cell_type": "code",
   "execution_count": 11,
   "id": "d6d3e4f9",
   "metadata": {},
   "outputs": [
    {
     "data": {
      "text/html": [
       "<table class=\"dataframe\">\n",
       "<caption>A data.frame: 10 × 2</caption>\n",
       "<thead>\n",
       "\t<tr><th scope=col>Var1</th><th scope=col>Freq</th></tr>\n",
       "\t<tr><th scope=col>&lt;fct&gt;</th><th scope=col>&lt;int&gt;</th></tr>\n",
       "</thead>\n",
       "<tbody>\n",
       "\t<tr><td>accounting </td><td> 767</td></tr>\n",
       "\t<tr><td>hr         </td><td> 739</td></tr>\n",
       "\t<tr><td>IT         </td><td>1227</td></tr>\n",
       "\t<tr><td>management </td><td> 630</td></tr>\n",
       "\t<tr><td>marketing  </td><td> 858</td></tr>\n",
       "\t<tr><td>product_mng</td><td> 902</td></tr>\n",
       "\t<tr><td>RandD      </td><td> 787</td></tr>\n",
       "\t<tr><td>sales      </td><td>4140</td></tr>\n",
       "\t<tr><td>support    </td><td>2229</td></tr>\n",
       "\t<tr><td>technical  </td><td>2720</td></tr>\n",
       "</tbody>\n",
       "</table>\n"
      ],
      "text/latex": [
       "A data.frame: 10 × 2\n",
       "\\begin{tabular}{ll}\n",
       " Var1 & Freq\\\\\n",
       " <fct> & <int>\\\\\n",
       "\\hline\n",
       "\t accounting  &  767\\\\\n",
       "\t hr          &  739\\\\\n",
       "\t IT          & 1227\\\\\n",
       "\t management  &  630\\\\\n",
       "\t marketing   &  858\\\\\n",
       "\t product\\_mng &  902\\\\\n",
       "\t RandD       &  787\\\\\n",
       "\t sales       & 4140\\\\\n",
       "\t support     & 2229\\\\\n",
       "\t technical   & 2720\\\\\n",
       "\\end{tabular}\n"
      ],
      "text/markdown": [
       "\n",
       "A data.frame: 10 × 2\n",
       "\n",
       "| Var1 &lt;fct&gt; | Freq &lt;int&gt; |\n",
       "|---|---|\n",
       "| accounting  |  767 |\n",
       "| hr          |  739 |\n",
       "| IT          | 1227 |\n",
       "| management  |  630 |\n",
       "| marketing   |  858 |\n",
       "| product_mng |  902 |\n",
       "| RandD       |  787 |\n",
       "| sales       | 4140 |\n",
       "| support     | 2229 |\n",
       "| technical   | 2720 |\n",
       "\n"
      ],
      "text/plain": [
       "   Var1        Freq\n",
       "1  accounting   767\n",
       "2  hr           739\n",
       "3  IT          1227\n",
       "4  management   630\n",
       "5  marketing    858\n",
       "6  product_mng  902\n",
       "7  RandD        787\n",
       "8  sales       4140\n",
       "9  support     2229\n",
       "10 technical   2720"
      ]
     },
     "metadata": {},
     "output_type": "display_data"
    }
   ],
   "source": [
    "TABLE = as.data.frame(table(HR$sales))\n",
    "TABLE"
   ]
  },
  {
   "cell_type": "markdown",
   "id": "8d2266af",
   "metadata": {},
   "source": [
    "* 2차원 빈도 테이블"
   ]
  },
  {
   "cell_type": "code",
   "execution_count": 12,
   "id": "a3e13789",
   "metadata": {},
   "outputs": [
    {
     "data": {
      "text/html": [
       "<table class=\"dataframe\">\n",
       "<caption>A data.frame: 30 × 3</caption>\n",
       "<thead>\n",
       "\t<tr><th scope=col>HR.salary</th><th scope=col>HR.sales</th><th scope=col>Freq</th></tr>\n",
       "\t<tr><th scope=col>&lt;fct&gt;</th><th scope=col>&lt;fct&gt;</th><th scope=col>&lt;int&gt;</th></tr>\n",
       "</thead>\n",
       "<tbody>\n",
       "\t<tr><td>high  </td><td>accounting </td><td>  74</td></tr>\n",
       "\t<tr><td>low   </td><td>accounting </td><td> 358</td></tr>\n",
       "\t<tr><td>medium</td><td>accounting </td><td> 335</td></tr>\n",
       "\t<tr><td>high  </td><td>hr         </td><td>  45</td></tr>\n",
       "\t<tr><td>low   </td><td>hr         </td><td> 335</td></tr>\n",
       "\t<tr><td>medium</td><td>hr         </td><td> 359</td></tr>\n",
       "\t<tr><td>high  </td><td>IT         </td><td>  83</td></tr>\n",
       "\t<tr><td>low   </td><td>IT         </td><td> 609</td></tr>\n",
       "\t<tr><td>medium</td><td>IT         </td><td> 535</td></tr>\n",
       "\t<tr><td>high  </td><td>management </td><td> 225</td></tr>\n",
       "\t<tr><td>low   </td><td>management </td><td> 180</td></tr>\n",
       "\t<tr><td>medium</td><td>management </td><td> 225</td></tr>\n",
       "\t<tr><td>high  </td><td>marketing  </td><td>  80</td></tr>\n",
       "\t<tr><td>low   </td><td>marketing  </td><td> 402</td></tr>\n",
       "\t<tr><td>medium</td><td>marketing  </td><td> 376</td></tr>\n",
       "\t<tr><td>high  </td><td>product_mng</td><td>  68</td></tr>\n",
       "\t<tr><td>low   </td><td>product_mng</td><td> 451</td></tr>\n",
       "\t<tr><td>medium</td><td>product_mng</td><td> 383</td></tr>\n",
       "\t<tr><td>high  </td><td>RandD      </td><td>  51</td></tr>\n",
       "\t<tr><td>low   </td><td>RandD      </td><td> 364</td></tr>\n",
       "\t<tr><td>medium</td><td>RandD      </td><td> 372</td></tr>\n",
       "\t<tr><td>high  </td><td>sales      </td><td> 269</td></tr>\n",
       "\t<tr><td>low   </td><td>sales      </td><td>2099</td></tr>\n",
       "\t<tr><td>medium</td><td>sales      </td><td>1772</td></tr>\n",
       "\t<tr><td>high  </td><td>support    </td><td> 141</td></tr>\n",
       "\t<tr><td>low   </td><td>support    </td><td>1146</td></tr>\n",
       "\t<tr><td>medium</td><td>support    </td><td> 942</td></tr>\n",
       "\t<tr><td>high  </td><td>technical  </td><td> 201</td></tr>\n",
       "\t<tr><td>low   </td><td>technical  </td><td>1372</td></tr>\n",
       "\t<tr><td>medium</td><td>technical  </td><td>1147</td></tr>\n",
       "</tbody>\n",
       "</table>\n"
      ],
      "text/latex": [
       "A data.frame: 30 × 3\n",
       "\\begin{tabular}{lll}\n",
       " HR.salary & HR.sales & Freq\\\\\n",
       " <fct> & <fct> & <int>\\\\\n",
       "\\hline\n",
       "\t high   & accounting  &   74\\\\\n",
       "\t low    & accounting  &  358\\\\\n",
       "\t medium & accounting  &  335\\\\\n",
       "\t high   & hr          &   45\\\\\n",
       "\t low    & hr          &  335\\\\\n",
       "\t medium & hr          &  359\\\\\n",
       "\t high   & IT          &   83\\\\\n",
       "\t low    & IT          &  609\\\\\n",
       "\t medium & IT          &  535\\\\\n",
       "\t high   & management  &  225\\\\\n",
       "\t low    & management  &  180\\\\\n",
       "\t medium & management  &  225\\\\\n",
       "\t high   & marketing   &   80\\\\\n",
       "\t low    & marketing   &  402\\\\\n",
       "\t medium & marketing   &  376\\\\\n",
       "\t high   & product\\_mng &   68\\\\\n",
       "\t low    & product\\_mng &  451\\\\\n",
       "\t medium & product\\_mng &  383\\\\\n",
       "\t high   & RandD       &   51\\\\\n",
       "\t low    & RandD       &  364\\\\\n",
       "\t medium & RandD       &  372\\\\\n",
       "\t high   & sales       &  269\\\\\n",
       "\t low    & sales       & 2099\\\\\n",
       "\t medium & sales       & 1772\\\\\n",
       "\t high   & support     &  141\\\\\n",
       "\t low    & support     & 1146\\\\\n",
       "\t medium & support     &  942\\\\\n",
       "\t high   & technical   &  201\\\\\n",
       "\t low    & technical   & 1372\\\\\n",
       "\t medium & technical   & 1147\\\\\n",
       "\\end{tabular}\n"
      ],
      "text/markdown": [
       "\n",
       "A data.frame: 30 × 3\n",
       "\n",
       "| HR.salary &lt;fct&gt; | HR.sales &lt;fct&gt; | Freq &lt;int&gt; |\n",
       "|---|---|---|\n",
       "| high   | accounting  |   74 |\n",
       "| low    | accounting  |  358 |\n",
       "| medium | accounting  |  335 |\n",
       "| high   | hr          |   45 |\n",
       "| low    | hr          |  335 |\n",
       "| medium | hr          |  359 |\n",
       "| high   | IT          |   83 |\n",
       "| low    | IT          |  609 |\n",
       "| medium | IT          |  535 |\n",
       "| high   | management  |  225 |\n",
       "| low    | management  |  180 |\n",
       "| medium | management  |  225 |\n",
       "| high   | marketing   |   80 |\n",
       "| low    | marketing   |  402 |\n",
       "| medium | marketing   |  376 |\n",
       "| high   | product_mng |   68 |\n",
       "| low    | product_mng |  451 |\n",
       "| medium | product_mng |  383 |\n",
       "| high   | RandD       |   51 |\n",
       "| low    | RandD       |  364 |\n",
       "| medium | RandD       |  372 |\n",
       "| high   | sales       |  269 |\n",
       "| low    | sales       | 2099 |\n",
       "| medium | sales       | 1772 |\n",
       "| high   | support     |  141 |\n",
       "| low    | support     | 1146 |\n",
       "| medium | support     |  942 |\n",
       "| high   | technical   |  201 |\n",
       "| low    | technical   | 1372 |\n",
       "| medium | technical   | 1147 |\n",
       "\n"
      ],
      "text/plain": [
       "   HR.salary HR.sales    Freq\n",
       "1  high      accounting    74\n",
       "2  low       accounting   358\n",
       "3  medium    accounting   335\n",
       "4  high      hr            45\n",
       "5  low       hr           335\n",
       "6  medium    hr           359\n",
       "7  high      IT            83\n",
       "8  low       IT           609\n",
       "9  medium    IT           535\n",
       "10 high      management   225\n",
       "11 low       management   180\n",
       "12 medium    management   225\n",
       "13 high      marketing     80\n",
       "14 low       marketing    402\n",
       "15 medium    marketing    376\n",
       "16 high      product_mng   68\n",
       "17 low       product_mng  451\n",
       "18 medium    product_mng  383\n",
       "19 high      RandD         51\n",
       "20 low       RandD        364\n",
       "21 medium    RandD        372\n",
       "22 high      sales        269\n",
       "23 low       sales       2099\n",
       "24 medium    sales       1772\n",
       "25 high      support      141\n",
       "26 low       support     1146\n",
       "27 medium    support      942\n",
       "28 high      technical    201\n",
       "29 low       technical   1372\n",
       "30 medium    technical   1147"
      ]
     },
     "metadata": {},
     "output_type": "display_data"
    }
   ],
   "source": [
    "TABLE2 = as.data.frame(xtabs(~ HR$salary + HR$sales))\n",
    "TABLE2"
   ]
  },
  {
   "cell_type": "markdown",
   "id": "6fd8ae15",
   "metadata": {},
   "source": [
    "# Review"
   ]
  },
  {
   "cell_type": "code",
   "execution_count": 13,
   "id": "ed9c5111",
   "metadata": {},
   "outputs": [
    {
     "data": {
      "text/html": [
       "0.716101740116008"
      ],
      "text/latex": [
       "0.716101740116008"
      ],
      "text/markdown": [
       "0.716101740116008"
      ],
      "text/plain": [
       "[1] 0.7161017"
      ]
     },
     "metadata": {},
     "output_type": "display_data"
    }
   ],
   "source": [
    "# HR 데이터에서 last_evaluation의 평균 구하기\n",
    "mean(HR$last_evaluation)"
   ]
  },
  {
   "cell_type": "code",
   "execution_count": 14,
   "id": "9b8b7150",
   "metadata": {},
   "outputs": [
    {
     "data": {
      "text/html": [
       "0.171169110623275"
      ],
      "text/latex": [
       "0.171169110623275"
      ],
      "text/markdown": [
       "0.171169110623275"
      ],
      "text/plain": [
       "[1] 0.1711691"
      ]
     },
     "metadata": {},
     "output_type": "display_data"
    }
   ],
   "source": [
    "# HR 데이터에서 last_evaluation의 표준편차 구하기\n",
    "sd(HR$last_evaluation)"
   ]
  },
  {
   "cell_type": "code",
   "execution_count": 15,
   "id": "af4ca858",
   "metadata": {},
   "outputs": [
    {
     "data": {
      "text/plain": [
       "\n",
       " accounting          hr          IT  management   marketing product_mng \n",
       "        767         739        1227         630         858         902 \n",
       "      RandD       sales     support   technical \n",
       "        787        4140        2229        2720 "
      ]
     },
     "metadata": {},
     "output_type": "display_data"
    }
   ],
   "source": [
    "# HR 데이터에서 sales에 대한 빈도표 만들기\n",
    "table(HR$sales)"
   ]
  },
  {
   "cell_type": "code",
   "execution_count": 16,
   "id": "8ca2af7e",
   "metadata": {},
   "outputs": [
    {
     "data": {
      "text/plain": [
       "       HR$salary\n",
       "HR$left high  low medium\n",
       "      0 1155 5144   5129\n",
       "      1   82 2172   1317"
      ]
     },
     "metadata": {},
     "output_type": "display_data"
    }
   ],
   "source": [
    "# HR 데이터에서 left, salary에 대한 교차표 만들기\n",
    "xtabs(~ HR$left + HR$salary)"
   ]
  }
 ],
 "metadata": {
  "kernelspec": {
   "display_name": "R",
   "language": "R",
   "name": "ir"
  },
  "language_info": {
   "codemirror_mode": "r",
   "file_extension": ".r",
   "mimetype": "text/x-r-source",
   "name": "R",
   "pygments_lexer": "r",
   "version": "3.6.3"
  }
 },
 "nbformat": 4,
 "nbformat_minor": 5
}
